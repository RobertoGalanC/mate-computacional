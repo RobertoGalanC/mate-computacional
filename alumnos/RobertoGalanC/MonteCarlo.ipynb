{
 "metadata": {
  "name": "",
  "signature": "sha256:b30fb953a37b7d1103f23176f621c40f223762d16abe44ddcadbaf30fbd94efd"
 },
 "nbformat": 3,
 "nbformat_minor": 0,
 "worksheets": [
  {
   "cells": [
    {
     "cell_type": "heading",
     "level": 1,
     "metadata": {},
     "source": [
      "M\u00e9todos de Monte Carlo"
     ]
    },
    {
     "cell_type": "markdown",
     "metadata": {},
     "source": [
      "Es el nombre que se le da a las t\u00e9cnicas que utilizan generaci\u00f3n de m\u00e9todos aleatorios para resolver problemas en la computadora. La pregunta obligada es _\u00bfPor qu\u00e9 resolverlos as\u00ed?_"
     ]
    },
    {
     "cell_type": "markdown",
     "metadata": {},
     "source": [
      "La respuesta puede variar, pero se reduce a esto: A veces es muy dif\u00edcil o casi imposible plantear el problema de manera determin\u00edstica y dado que las computadoras son muy r\u00e1pidas, pues, es mejor que ella trabaje un rato a que tu est\u00e9s trabajando _much\u00edsimo_ tiempo."
     ]
    },
    {
     "cell_type": "heading",
     "level": 1,
     "metadata": {},
     "source": [
      "N\u00fameros aleatorios"
     ]
    },
    {
     "cell_type": "markdown",
     "metadata": {},
     "source": [
      "\u00bfQu\u00e9 es _random_ ?\u00bfExiste?"
     ]
    },
    {
     "cell_type": "markdown",
     "metadata": {},
     "source": [
      "Las personas batallan mucho para generar aleatoriedad por si mismas."
     ]
    },
    {
     "cell_type": "markdown",
     "metadata": {},
     "source": [
      "Las computadoras son m\u00e1quinas deterministas."
     ]
    },
    {
     "cell_type": "markdown",
     "metadata": {},
     "source": [
      "Usaremos **n\u00fameros pseudo aleatorios**."
     ]
    },
    {
     "cell_type": "markdown",
     "metadata": {},
     "source": [
      "<div class=\"alert alert-info\">\n",
      "**Ejercicio** Programa el generador aleatorio de tipo [_linear congruential_](http://en.wikipedia.org/wiki/Linear_congruential_generator):\n",
      "    \n",
      "$$x_{n+1} = (a x_n + b) \\mod c$$\n",
      "\n",
      "Para que sea m\u00e1s f\u00e1cil, utiliza el concepto de [`generators`](http://anandology.com/python-practice-book/iterators.html) de **Python**\n",
      "</div>\n",
      "\n",
      "\n",
      "\n",
      "\n",
      "<div class=\"alert alert-info\">\n",
      " **Ejercicio** \u00bfCu\u00e1l es la secuencia?\n",
      "</div>\n",
      "\n",
      "<div class=\"alert alert-info\">\n",
      "**Ejercicio**  \u00bfDe qu\u00e9 longitud es la secuencia? \u00bfEst\u00e1 relacionada con el valor de $c$? \u00bfC\u00f3mo?\n",
      "</div>\n",
      "\n"
     ]
    },
    {
     "cell_type": "heading",
     "level": 3,
     "metadata": {},
     "source": [
      "Propiedades de un buen generador."
     ]
    },
    {
     "cell_type": "markdown",
     "metadata": {},
     "source": [
      "- Los n\u00fameros generados deben de tener la distribuci\u00f3n correcta. En el caso de distribuci\u00f3n uniforme, la distribuci\u00f3n generada debe de ser uniforme.\n",
      "- El periodo de la secuencia debe de ser mayor que los n\u00fameros necesarios para la aplicaci\u00f3n.\n",
      "- La secuencia no est\u00e1 correlacionada."
     ]
    },
    {
     "cell_type": "code",
     "collapsed": false,
     "input": [
      "%matplotlib inline\n",
      "import numpy as np\n",
      "import matplotlib.pyplot as plt"
     ],
     "language": "python",
     "metadata": {},
     "outputs": [],
     "prompt_number": 2
    },
    {
     "cell_type": "code",
     "collapsed": false,
     "input": [
      "def pseudo_random_number_generator(seed, a, b, c):\n",
      "    yield 1"
     ],
     "language": "python",
     "metadata": {},
     "outputs": [],
     "prompt_number": 3
    },
    {
     "cell_type": "markdown",
     "metadata": {},
     "source": [
      "<div class=\"alert alert-info\">\n",
      "**Ejercicio** En los 70's fu\u00e9ron muy populares los coeficientes [**RANDU**](http://en.wikipedia.org/wiki/RANDU), pero se demostr\u00f3 que fallaban miserablemente las pruebas de aleatoriedad, en particular los tripletes de n\u00fameros consecutivos caen en uno de 15 planos paralelos... Dibuja los primeros 100,000 tripletes y reproduce la imagen de la wikipedia.\n",
      "</div>"
     ]
    },
    {
     "cell_type": "markdown",
     "metadata": {},
     "source": [
      "Afortunadamente (por lo menos para los fines de este curso) `python` incluye un generador llamado [**Mersenne Twister**](http://en.wikipedia.org/wiki/Mersenne_twister), el cual podemos usar si importamos la biblioteca `random`"
     ]
    },
    {
     "cell_type": "code",
     "collapsed": false,
     "input": [
      "import numpy.random"
     ],
     "language": "python",
     "metadata": {},
     "outputs": [],
     "prompt_number": 4
    },
    {
     "cell_type": "heading",
     "level": 1,
     "metadata": {},
     "source": [
      "Integraci\u00f3n de Monte Carlo"
     ]
    },
    {
     "cell_type": "markdown",
     "metadata": {},
     "source": [
      "Una t\u00e9cnica de **Monte Carlo** es la integraci\u00f3n, el algoritmo es muy simple:\n",
      "\n",
      "_Recuerda que la integraci\u00f3n devuelve el_ **\u00e1rea** _de una figura._\n",
      "\n",
      "1. Rodea el objeto al cual le quieres calcular el \u00e1rea con una figura de la cual conozcas el \u00e1rea (un rect\u00e1ngulo si es de dos dimensiones) y\n",
      "2. Genera un n\u00famero muy grande de puntos al azar dentro de la figura de la cual conoces el \u00e1rea.\n",
      "3. El \u00e1rea del objeto es aproximadamente la fracci\u00f3n de puntos que cayeron dentro del objeto multiplicada por el \u00e1rea del objeto que la rodea."
     ]
    },
    {
     "cell_type": "heading",
     "level": 3,
     "metadata": {},
     "source": [
      "Ejemplo: Calcular el \u00e1rea de un c\u00edrculo"
     ]
    },
    {
     "cell_type": "markdown",
     "metadata": {},
     "source": [
      "El \u00e1rea de un c\u00edrculo se puede calcular usando la f\u00f3rmula $A = \\pi r^2$. "
     ]
    },
    {
     "cell_type": "code",
     "collapsed": false,
     "input": [
      "radio = 1\n",
      "\n",
      "N = 1000000\n",
      "\n",
      "# N\u00fameros al azar\n",
      "X = np.random.uniform(low = -radio, high = radio, size  = N)\n",
      "Y = np.random.uniform(low = -radio, high = radio, size = N)\n",
      "\n",
      "# Distancia desde el centro\n",
      "dist = np.sqrt(X**2+Y**2);\n",
      "\n",
      "# Aplicamos la f\u00f3rmula...\n",
      "caja = (2.0*radio)**2\n",
      "esta_adentro = dist < radio\n",
      "N_adentro = np.sum(esta_adentro)\n",
      "area_circulo = caja*N_adentro/N\n",
      "\n",
      "# Dibujamos\n",
      "plt.figure(figsize=(8,8))\n",
      "plt.scatter(X,Y, c=esta_adentro, s=5.0, edgecolors='none', cmap=plt.cm.Paired)\n",
      "plt.axis('equal')\n",
      "\n",
      "print \"[Monte Carlo] \u00c1rea del c\u00edrculo = \", area_circulo\n",
      "print \"[Exacta] \u00c1rea del c\u00edrculo = \", np.pi*radio**2"
     ],
     "language": "python",
     "metadata": {},
     "outputs": [
      {
       "output_type": "stream",
       "stream": "stdout",
       "text": [
        "[Monte Carlo] \u00c1rea del c\u00edrculo =  3.142064\n",
        "[Exacta] \u00c1rea del c\u00edrculo =  3.14159265359\n"
       ]
      },
      {
       "metadata": {},
       "output_type": "display_data",
       "png": "[encoded data removed]",
       "text": [
        "<matplotlib.figure.Figure at 0x6992610>"
       ]
      }
     ],
     "prompt_number": 7
    },
    {
     "cell_type": "markdown",
     "metadata": {},
     "source": [
      "<div class=\"alert alert-info\">\n",
      "**Ejercicio**  Realiza una gr\u00e1fica calculando el error entre el valor exacto y el estimado, en el eje horizontal coloca el n\u00famero de puntos (10, 100, 1000, 10000, 100000, etc)\n",
      "</div>\n"
     ]
    },
    {
     "cell_type": "markdown",
     "metadata": {},
     "source": [
      "Ejericio de arriba: agarrar el codigo de arriba y ponerlo en un for e ir guardando diferencia entre el valoro real y el estimado"
     ]
    },
    {
     "cell_type": "code",
     "collapsed": false,
     "input": [
      "N = 1000\n",
      "dif #hacer arreglo\n",
      "for i in xrange(1,N):\n",
      "    \n",
      "    X = np.random.uniform(low = -radio, high = radio, size  = N)\n",
      "    Y = np.random.uniform(low = -radio, high = radio, size = N)\n",
      "    dist = np.sqrt(X**2+Y**2);\n",
      "\n",
      "    caja = (2.0*radio)**2\n",
      "    esta_adentro = dist < radio\n",
      "    N_adentro = np.sum(esta_adentro)\n",
      "    area_circulo = caja*N_adentro/N\n",
      "    \n",
      "    dif.append= area_circulo - np.pi*radio**2\n",
      "        \n",
      "   \n",
      "        \n",
      "\n",
      "    "
     ],
     "language": "python",
     "metadata": {},
     "outputs": [
      {
       "ename": "ValueError",
       "evalue": "x and y must be the same size",
       "output_type": "pyerr",
       "traceback": [
        "\u001b[1;31m---------------------------------------------------------------------------\u001b[0m\n\u001b[1;31mValueError\u001b[0m                                Traceback (most recent call last)",
        "\u001b[1;32m<ipython-input-21-d5b25cc3d905>\u001b[0m in \u001b[0;36m<module>\u001b[1;34m()\u001b[0m\n\u001b[0;32m     16\u001b[0m \u001b[0my\u001b[0m\u001b[1;33m=\u001b[0m\u001b[0mdif\u001b[0m\u001b[1;33m\u001b[0m\u001b[0m\n\u001b[0;32m     17\u001b[0m \u001b[0mplt\u001b[0m\u001b[1;33m.\u001b[0m\u001b[0mfigure\u001b[0m\u001b[1;33m(\u001b[0m\u001b[0mfigsize\u001b[0m\u001b[1;33m=\u001b[0m\u001b[1;33m(\u001b[0m\u001b[1;36m8\u001b[0m\u001b[1;33m,\u001b[0m\u001b[1;36m8\u001b[0m\u001b[1;33m)\u001b[0m\u001b[1;33m)\u001b[0m\u001b[1;33m\u001b[0m\u001b[0m\n\u001b[1;32m---> 18\u001b[1;33m \u001b[0mplt\u001b[0m\u001b[1;33m.\u001b[0m\u001b[0mscatter\u001b[0m\u001b[1;33m(\u001b[0m\u001b[0mx\u001b[0m\u001b[1;33m,\u001b[0m\u001b[0my\u001b[0m\u001b[1;33m,\u001b[0m \u001b[0medgecolors\u001b[0m\u001b[1;33m=\u001b[0m\u001b[1;34m'none'\u001b[0m\u001b[1;33m,\u001b[0m \u001b[0mcmap\u001b[0m\u001b[1;33m=\u001b[0m\u001b[0mplt\u001b[0m\u001b[1;33m.\u001b[0m\u001b[0mcm\u001b[0m\u001b[1;33m.\u001b[0m\u001b[0mPaired\u001b[0m\u001b[1;33m)\u001b[0m\u001b[1;33m\u001b[0m\u001b[0m\n\u001b[0m\u001b[0;32m     19\u001b[0m \u001b[0mplt\u001b[0m\u001b[1;33m.\u001b[0m\u001b[0maxis\u001b[0m\u001b[1;33m(\u001b[0m\u001b[1;34m'equal'\u001b[0m\u001b[1;33m)\u001b[0m\u001b[1;33m\u001b[0m\u001b[0m\n\u001b[0;32m     20\u001b[0m \u001b[1;33m\u001b[0m\u001b[0m\n",
        "\u001b[1;32mC:\\Users\\Roberto Galan\\Anaconda\\lib\\site-packages\\matplotlib\\pyplot.pyc\u001b[0m in \u001b[0;36mscatter\u001b[1;34m(x, y, s, c, marker, cmap, norm, vmin, vmax, alpha, linewidths, verts, hold, **kwargs)\u001b[0m\n\u001b[0;32m   3192\u001b[0m         ret = ax.scatter(x, y, s=s, c=c, marker=marker, cmap=cmap, norm=norm,\n\u001b[0;32m   3193\u001b[0m                          \u001b[0mvmin\u001b[0m\u001b[1;33m=\u001b[0m\u001b[0mvmin\u001b[0m\u001b[1;33m,\u001b[0m \u001b[0mvmax\u001b[0m\u001b[1;33m=\u001b[0m\u001b[0mvmax\u001b[0m\u001b[1;33m,\u001b[0m \u001b[0malpha\u001b[0m\u001b[1;33m=\u001b[0m\u001b[0malpha\u001b[0m\u001b[1;33m,\u001b[0m\u001b[1;33m\u001b[0m\u001b[0m\n\u001b[1;32m-> 3194\u001b[1;33m                          linewidths=linewidths, verts=verts, **kwargs)\n\u001b[0m\u001b[0;32m   3195\u001b[0m         \u001b[0mdraw_if_interactive\u001b[0m\u001b[1;33m(\u001b[0m\u001b[1;33m)\u001b[0m\u001b[1;33m\u001b[0m\u001b[0m\n\u001b[0;32m   3196\u001b[0m     \u001b[1;32mfinally\u001b[0m\u001b[1;33m:\u001b[0m\u001b[1;33m\u001b[0m\u001b[0m\n",
        "\u001b[1;32mC:\\Users\\Roberto Galan\\Anaconda\\lib\\site-packages\\matplotlib\\axes\\_axes.pyc\u001b[0m in \u001b[0;36mscatter\u001b[1;34m(self, x, y, s, c, marker, cmap, norm, vmin, vmax, alpha, linewidths, verts, **kwargs)\u001b[0m\n\u001b[0;32m   3575\u001b[0m         \u001b[0my\u001b[0m \u001b[1;33m=\u001b[0m \u001b[0mnp\u001b[0m\u001b[1;33m.\u001b[0m\u001b[0mma\u001b[0m\u001b[1;33m.\u001b[0m\u001b[0mravel\u001b[0m\u001b[1;33m(\u001b[0m\u001b[0my\u001b[0m\u001b[1;33m)\u001b[0m\u001b[1;33m\u001b[0m\u001b[0m\n\u001b[0;32m   3576\u001b[0m         \u001b[1;32mif\u001b[0m \u001b[0mx\u001b[0m\u001b[1;33m.\u001b[0m\u001b[0msize\u001b[0m \u001b[1;33m!=\u001b[0m \u001b[0my\u001b[0m\u001b[1;33m.\u001b[0m\u001b[0msize\u001b[0m\u001b[1;33m:\u001b[0m\u001b[1;33m\u001b[0m\u001b[0m\n\u001b[1;32m-> 3577\u001b[1;33m             \u001b[1;32mraise\u001b[0m \u001b[0mValueError\u001b[0m\u001b[1;33m(\u001b[0m\u001b[1;34m\"x and y must be the same size\"\u001b[0m\u001b[1;33m)\u001b[0m\u001b[1;33m\u001b[0m\u001b[0m\n\u001b[0m\u001b[0;32m   3578\u001b[0m \u001b[1;33m\u001b[0m\u001b[0m\n\u001b[0;32m   3579\u001b[0m         \u001b[0ms\u001b[0m \u001b[1;33m=\u001b[0m \u001b[0mnp\u001b[0m\u001b[1;33m.\u001b[0m\u001b[0mma\u001b[0m\u001b[1;33m.\u001b[0m\u001b[0mravel\u001b[0m\u001b[1;33m(\u001b[0m\u001b[0ms\u001b[0m\u001b[1;33m)\u001b[0m  \u001b[1;31m# This doesn't have to match x, y in size.\u001b[0m\u001b[1;33m\u001b[0m\u001b[0m\n",
        "\u001b[1;31mValueError\u001b[0m: x and y must be the same size"
       ]
      },
      {
       "metadata": {},
       "output_type": "display_data",
       "png": "[encoded data removed]",
       "text": [
        "<matplotlib.figure.Figure at 0x68d05b0>"
       ]
      }
     ],
     "prompt_number": 21
    },
    {
     "cell_type": "code",
     "collapsed": false,
     "input": [
      "plt.scatter?"
     ],
     "language": "python",
     "metadata": {},
     "outputs": [],
     "prompt_number": 18
    },
    {
     "cell_type": "heading",
     "level": 3,
     "metadata": {},
     "source": [
      "Ejemplo: Calcular el volumen de una esfera de radio $r = 1$"
     ]
    },
    {
     "cell_type": "markdown",
     "metadata": {},
     "source": [
      "Podemos usar la simetr\u00eda del problema y concentrarnos en un cuadrante y luego multiplicar por $8$ el resultado. Usemos como figura que conocemos un cubo de lado $1$.\n"
     ]
    },
    {
     "cell_type": "code",
     "collapsed": false,
     "input": [
      "volumen_cubo = 1 * 1 * 1\n",
      "\n",
      "N = 10000\n",
      "count = 0\n",
      "\n",
      "puntos = np.array([np.random.uniform(low=0, high=1,size=N), np.random.uniform(low=0, high=1,size=N), np.random.uniform(low=0, high=1,size=N)])  \n",
      "puntos_adentro = sum(sum(puntos**2) < 1)\n",
      "fraccion = 1.0*puntos_adentro/N\n",
      "\n",
      "volumen = fraccion * volumen_cubo\n",
      "volumen_esfera = volumen*8\n",
      "\n"
     ],
     "language": "python",
     "metadata": {},
     "outputs": [],
     "prompt_number": 8
    },
    {
     "cell_type": "markdown",
     "metadata": {},
     "source": [
      "El volumen de la esfera se puede calcular analiticamente y es igual a \n",
      "\n",
      "$$\n",
      "V = \\frac{4}{3} \\pi r^3\n",
      "$$"
     ]
    },
    {
     "cell_type": "code",
     "collapsed": false,
     "input": [
      "volumen_esfera"
     ],
     "language": "python",
     "metadata": {},
     "outputs": [
      {
       "metadata": {},
       "output_type": "pyout",
       "prompt_number": 9,
       "text": [
        "4.184"
       ]
      }
     ],
     "prompt_number": 9
    },
    {
     "cell_type": "code",
     "collapsed": false,
     "input": [
      "volumen = (4.0/3)*np.pi \n",
      "volumen"
     ],
     "language": "python",
     "metadata": {},
     "outputs": [
      {
       "metadata": {},
       "output_type": "pyout",
       "prompt_number": 10,
       "text": [
        "4.1887902047863905"
       ]
      }
     ],
     "prompt_number": 10
    },
    {
     "cell_type": "markdown",
     "metadata": {},
     "source": [
      "<div class=\"alert alert-info\">\n",
      "**Ejercicio** Realiza una gr\u00e1fica mostrando este algoritmo \u00bfSe te ocurre alguna manera?\n",
      "</div>"
     ]
    },
    {
     "cell_type": "heading",
     "level": 2,
     "metadata": {},
     "source": [
      "Teorema del valor medio"
     ]
    },
    {
     "cell_type": "markdown",
     "metadata": {},
     "source": [
      "Sea la integral\n",
      "\n",
      "$$\n",
      "I = \\int_a^b f(x) dx\n",
      "$$\n",
      "\n",
      "Recuerda que:\n",
      "\n",
      "$$\n",
      "<f> = \\frac{\\int_\\omega f(x) dx}{\\int_\\omega dx}\n",
      "$$\n",
      "\n",
      "Sea $\\int_\\omega dx = V$, entonces\n",
      "\n",
      "$$\n",
      "\\int_a^b f(x) dx = V <f>\n",
      "$$\n",
      "\n",
      "Podemos determinar el promedio de la siguiente manera: elegimos $x_i$ al azar y calculamos $f(x)$\n",
      "\n",
      "$$\n",
      "\\hat{I} = V<f> \\sim V \\frac{1}{N} \\sum_{i=1}^Nf(x_i)\n",
      "$$"
     ]
    },
    {
     "cell_type": "markdown",
     "metadata": {},
     "source": [
      "Por ejemplo, la integral $\\int_0^\\pi \\sin x\\ dx$, se resuelve como sigue:"
     ]
    },
    {
     "cell_type": "code",
     "collapsed": false,
     "input": [
      "def f(x):\n",
      "    return np.sin(x)\n",
      "\n",
      "def intf(x):\n",
      "    return -np.cos(x)"
     ],
     "language": "python",
     "metadata": {},
     "outputs": [],
     "prompt_number": 11
    },
    {
     "cell_type": "code",
     "collapsed": false,
     "input": [
      "a = 0\n",
      "b = np.pi\n",
      "\n",
      "N = 10000\n",
      "\n",
      "X = np.random.uniform(low=a, high=b, size = N)\n",
      "Y = f(X)\n",
      "\n",
      "I_estimado = (b-a)*np.sum(Y) / N;\n",
      "\n",
      "I_exacto = intf(b) - intf(a)\n",
      "\n",
      "print \"Estimaci\u00f3n = \", I_estimado, \"Exacto = \", I_exacto"
     ],
     "language": "python",
     "metadata": {},
     "outputs": [
      {
       "output_type": "stream",
       "stream": "stdout",
       "text": [
        "Estimaci\u00f3n =  1.98632206465 Exacto =  2.0\n"
       ]
      }
     ],
     "prompt_number": 12
    },
    {
     "cell_type": "markdown",
     "metadata": {},
     "source": [
      "<div class=\"alert alert-info\">\n",
      "**Ejercicio** Calcula \n",
      "\n",
      "$$\n",
      "I = \\int_2^{5*\\pi} \\left[x^2 + 4x \\sin x\\right] dx\n",
      "$$\n",
      "\n",
      "Usando t\u00e9cnicas de Monte Carlo. Compara con el resultado anal\u00edtico.\n",
      "</div>"
     ]
    },
    {
     "cell_type": "markdown",
     "metadata": {},
     "source": [
      "<div class=\"alert alert-info\">\n",
      "**Ejercicio** Encuentra el volumen de la intersecci\u00f3n de una esfera y un cilindro. La esfera tiene $r = 1$ y est\u00e1 centrada en el origen. El cilindro tiene radio $r = 0.5$ y su eje es perpendicular al eje $x$ y pasa por el punto $(0.5, 0, 0)$.\n",
      "</div>"
     ]
    },
    {
     "cell_type": "code",
     "collapsed": false,
     "input": [],
     "language": "python",
     "metadata": {},
     "outputs": []
    }
   ],
   "metadata": {}
  }
 ]
}