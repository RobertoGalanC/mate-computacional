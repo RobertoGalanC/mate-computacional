{
 "metadata": {
  "name": "",
  "signature": "sha256:00dd42d98aac7ab773a6d65be651e53e30a9f0edc212941903d2b121b5dd1012"
 },
 "nbformat": 3,
 "nbformat_minor": 0,
 "worksheets": [
  {
   "cells": [
    {
     "cell_type": "code",
     "collapsed": false,
     "input": [
      "%matplotlib inline\n",
      "%pylab inline\n",
      "import numpy as np\n",
      "import matplotlib.pyplot as plt\n",
      "import sympy\n",
      "import random"
     ],
     "language": "python",
     "metadata": {},
     "outputs": [
      {
       "output_type": "stream",
       "stream": "stdout",
       "text": [
        "Populating the interactive namespace from numpy and matplotlib\n"
       ]
      },
      {
       "output_type": "stream",
       "stream": "stderr",
       "text": [
        "WARNING: pylab import has clobbered these variables: ['random']\n",
        "`%matplotlib` prevents importing * from pylab and numpy\n"
       ]
      }
     ],
     "prompt_number": 2
    },
    {
     "cell_type": "code",
     "collapsed": false,
     "input": [
      "def trafico(s,v_max,t_max):\n",
      "    \"\"\"\n",
      "    s -> longitud del arreglo\n",
      "    v_max-> velocidad maxima \n",
      "    t_max-> \n",
      "    \"\"\"\n",
      "        \n",
      "    #matriz con la posicion de cada coche. Posiciones(i, j) es la posicion j al tiempo i inicializada en -1\n",
      "    posicion = np.ones((t_max,s))*-1 \n",
      "    posicion = posicion.astype(np.int16)\n",
      "    \n",
      "    arr = np.arange(0,s)\n",
      "    coches = []\n",
      "    top = random.randrange(0,s-1)\n",
      "    for i in range(1,top):\n",
      "        coches.append(random.choice(arr))\n",
      "        \n",
      "    coches = np.unique(coches)\n",
      "    \n",
      "    num_coches = len(coches)\n",
      "   \n",
      "    t=0\n",
      "    \n",
      "    for i in range(0,num_coches-1):\n",
      "        posicion[t,coches[i]] =  random.randint(1,v_max)\n",
      "        \n",
      "  \n",
      "    \n",
      "    while t<t_max and num_coches>0:\n",
      "        for i in range(0,s-2):\n",
      "            if posicion[t,arr[i]] != -1:\n",
      "                j = i+1\n",
      "                while (posicion[t,j]==-1) and (j<s):\n",
      "                    j+=1\n",
      "                distancia = j - i\n",
      "                if distancia < posicion[t,i]:\n",
      "                    posicion[t,i]-=1 \n",
      "                else:\n",
      "                    posicion[t,i]= min(posicion[t,i]+1,v_max)\n",
      "        t+=1\n",
      "        for i in range(0,s-1):\n",
      "            if posicion[t-1,i] != -1:\n",
      "                if i + posicion[t-1,i] > s:\n",
      "                    num_coches -= 1\n",
      "                    posicion[t,i] = -1\n",
      "                else:\n",
      "                    posicion[t, posicion[t-1,i]+i] = posicion[t-1,i]\n",
      "        \n",
      "        return posicion\n",
      "                    \n",
      "        \n",
      "                    \n",
      "                    \n",
      "                        \n",
      "            \n",
      "                \n",
      "        \n",
      "    \n",
      "    "
     ],
     "language": "python",
     "metadata": {},
     "outputs": [],
     "prompt_number": 52
    },
    {
     "cell_type": "code",
     "collapsed": false,
     "input": [
      "trafico(10,3,5)"
     ],
     "language": "python",
     "metadata": {},
     "outputs": [
      {
       "ename": "IndexError",
       "evalue": "index 10 is out of bounds for axis 1 with size 10",
       "output_type": "pyerr",
       "traceback": [
        "\u001b[1;31m---------------------------------------------------------------------------\u001b[0m\n\u001b[1;31mIndexError\u001b[0m                                Traceback (most recent call last)",
        "\u001b[1;32m<ipython-input-55-46eff2e1b892>\u001b[0m in \u001b[0;36m<module>\u001b[1;34m()\u001b[0m\n\u001b[1;32m----> 1\u001b[1;33m \u001b[0mtrafico\u001b[0m\u001b[1;33m(\u001b[0m\u001b[1;36m10\u001b[0m\u001b[1;33m,\u001b[0m\u001b[1;36m3\u001b[0m\u001b[1;33m,\u001b[0m\u001b[1;36m5\u001b[0m\u001b[1;33m)\u001b[0m\u001b[1;33m\u001b[0m\u001b[0m\n\u001b[0m",
        "\u001b[1;32m<ipython-input-52-800cff77bd59>\u001b[0m in \u001b[0;36mtrafico\u001b[1;34m(s, v_max, t_max)\u001b[0m\n\u001b[0;32m     31\u001b[0m             \u001b[1;32mif\u001b[0m \u001b[0mposicion\u001b[0m\u001b[1;33m[\u001b[0m\u001b[0mt\u001b[0m\u001b[1;33m,\u001b[0m\u001b[0marr\u001b[0m\u001b[1;33m[\u001b[0m\u001b[0mi\u001b[0m\u001b[1;33m]\u001b[0m\u001b[1;33m]\u001b[0m \u001b[1;33m!=\u001b[0m \u001b[1;33m-\u001b[0m\u001b[1;36m1\u001b[0m\u001b[1;33m:\u001b[0m\u001b[1;33m\u001b[0m\u001b[0m\n\u001b[0;32m     32\u001b[0m                 \u001b[0mj\u001b[0m \u001b[1;33m=\u001b[0m \u001b[0mi\u001b[0m\u001b[1;33m+\u001b[0m\u001b[1;36m1\u001b[0m\u001b[1;33m\u001b[0m\u001b[0m\n\u001b[1;32m---> 33\u001b[1;33m                 \u001b[1;32mwhile\u001b[0m \u001b[1;33m(\u001b[0m\u001b[0mposicion\u001b[0m\u001b[1;33m[\u001b[0m\u001b[0mt\u001b[0m\u001b[1;33m,\u001b[0m\u001b[0mj\u001b[0m\u001b[1;33m]\u001b[0m\u001b[1;33m==\u001b[0m\u001b[1;33m-\u001b[0m\u001b[1;36m1\u001b[0m\u001b[1;33m)\u001b[0m \u001b[1;32mand\u001b[0m \u001b[1;33m(\u001b[0m\u001b[0mj\u001b[0m\u001b[1;33m<\u001b[0m\u001b[0ms\u001b[0m\u001b[1;33m)\u001b[0m\u001b[1;33m:\u001b[0m\u001b[1;33m\u001b[0m\u001b[0m\n\u001b[0m\u001b[0;32m     34\u001b[0m                     \u001b[0mj\u001b[0m\u001b[1;33m+=\u001b[0m\u001b[1;36m1\u001b[0m\u001b[1;33m\u001b[0m\u001b[0m\n\u001b[0;32m     35\u001b[0m                 \u001b[0mdistancia\u001b[0m \u001b[1;33m=\u001b[0m \u001b[0mj\u001b[0m \u001b[1;33m-\u001b[0m \u001b[0mi\u001b[0m\u001b[1;33m\u001b[0m\u001b[0m\n",
        "\u001b[1;31mIndexError\u001b[0m: index 10 is out of bounds for axis 1 with size 10"
       ]
      }
     ],
     "prompt_number": 55
    },
    {
     "cell_type": "code",
     "collapsed": false,
     "input": [
      "class Trafico:\n",
      "    \n",
      "     \n",
      "    def __init__(self,t_max,v_max,s):\n",
      "        \n",
      "        self.t_max = t_max\n",
      "        self.v_max = v_max\n",
      "        self.s = s\n",
      "        self.posicion=[]\n",
      "        self.lugar_coche=[]\n",
      "        self.distancias=[]\n",
      "        self.semaforo=[]\n",
      "        self.sig_Semaforo=[]\n",
      "        \n",
      "        #matriz con la posicion de cada coche. Posiciones(i, j) es la posicion j al tiempo i inicializada en -1    \n",
      "        self.posicion = np.ones((self.t_max,self.s))*-1 \n",
      "        self.posicion = self.posicion.astype(np.int16)\n",
      "        \n",
      "    def printea(self):\n",
      "        print self.posicion\n",
      "    \n",
      "    def creaMundo(self):\n",
      "        #En t=0 ponemos la velocidad actual de cada coche random.\n",
      "        for i in range(s):\n",
      "            vacio = random.randint(-1,0)\n",
      "            if vacio==0:\n",
      "                self.posicion[0][i] =  random.randint(0,self.v_max)\n",
      "            else:\n",
      "                self.posicion[0][i] = -1\n",
      "        print self.posicion\n",
      "        \n",
      "    def siguienteCoche(self,t):\n",
      "        self.lugar_coche=[]\n",
      "        for i in range(s):\n",
      "            if self.posicion[t][i]!=-1:\n",
      "                self.lugar_coche.append(i)\n",
      "        return self.lugar_coche\n",
      "    \n",
      "     \n",
      "    def distancia(self):\n",
      "        self.distancias =[]\n",
      "        for i in range(len(self.lugar_coche)-1):\n",
      "            self.distancias.append(self.lugar_coche[i+1] - self.lugar_coche[i])\n",
      "            \n",
      "        self.distancias.append(self.s - self.lugar_coche[len(self.lugar_coche)-1] + self.lugar_coche[0] )#el \u00faltimo coche tiene distancia hasta s\n",
      "        return self.distancias\n",
      "            \n",
      "            \n",
      "    def actualiza(self,t):\n",
      "        #dada una distancia calcula la velocidad den el tiempo t+1\n",
      "        self.siguienteCoche(t)\n",
      "        self.distancia()\n",
      "        for i in range (len(self.distancias)):\n",
      "            if self.distancias[i]-1<=self.posicion[t][self.lugar_coche[i]]:\n",
      "                nueva_vel = self.distancias[i]-1\n",
      "            else:\n",
      "                nueva_vel = min(self.v_max, self.posicion[t][self.lugar_coche[i]] + 1)\n",
      "                \n",
      "                \n",
      "            #if self.posicion[t][self.lugar_coche[i]] != -1:\n",
      "            self.posicion[t+1][(self.lugar_coche[i] + nueva_vel) % self.s] = nueva_vel\n",
      "                \n",
      "        return self.posicion\n",
      "    \n",
      "    def semaforo(self):\n",
      "        self.semaforo=[]\n",
      "        for i in range(s/10 + 1):\n",
      "            self.semaforo.append(random.int(0,s-1))\n",
      "            \n",
      "    def siguiente_Semaforo():\n",
      "        self.siguiente_Semaforo=[]\n",
      "        for i in range(len(lugar_coche)):\n",
      "            \n",
      "            \n",
      "    def actualiza_Semaforo(self, t):\n",
      "        self.siguienteCoche(t)\n",
      "        self.distancia()\n",
      "        self.semaforo()\n",
      "        self.siguiente_Semaforo()\n",
      "        for i in range (len(self.distancias)):\n",
      "            \n",
      "            if self.distancias[i]-1<=self.posicion[t][self.lugar_coche[i]]:\n",
      "                nueva_vel = self.distancias[i]-1\n",
      "            else:\n",
      "                nueva_vel = min(self.v_max, self.posicion[t][self.lugar_coche[i]] + 1)\n",
      "            nueva_vel= min(nueva_vel, self.sig_semaforo[i]-lugar_coche[i])\n",
      "            \n",
      "            self.posicion[t+1][(self.lugar_coche[i] + nueva_vel) % self.s] = nueva_vel\n",
      "                \n",
      "        return self.posicion"
     ],
     "language": "python",
     "metadata": {},
     "outputs": [],
     "prompt_number": 111
    },
    {
     "cell_type": "code",
     "collapsed": false,
     "input": [
      "t_max = 5\n",
      "v_max = 3\n",
      "s = 10\n",
      "\n"
     ],
     "language": "python",
     "metadata": {},
     "outputs": [],
     "prompt_number": 112
    },
    {
     "cell_type": "code",
     "collapsed": false,
     "input": [
      "hola = Trafico(t_max,v_max,s)"
     ],
     "language": "python",
     "metadata": {},
     "outputs": [],
     "prompt_number": 113
    },
    {
     "cell_type": "code",
     "collapsed": false,
     "input": [
      "hola.printea()"
     ],
     "language": "python",
     "metadata": {},
     "outputs": [
      {
       "output_type": "stream",
       "stream": "stdout",
       "text": [
        "[[-1 -1 -1 -1 -1 -1 -1 -1 -1 -1]\n",
        " [-1 -1 -1 -1 -1 -1 -1 -1 -1 -1]\n",
        " [-1 -1 -1 -1 -1 -1 -1 -1 -1 -1]\n",
        " [-1 -1 -1 -1 -1 -1 -1 -1 -1 -1]\n",
        " [-1 -1 -1 -1 -1 -1 -1 -1 -1 -1]]\n"
       ]
      }
     ],
     "prompt_number": 114
    },
    {
     "cell_type": "code",
     "collapsed": false,
     "input": [
      "hola.creaMundo()"
     ],
     "language": "python",
     "metadata": {},
     "outputs": [
      {
       "output_type": "stream",
       "stream": "stdout",
       "text": [
        "[[-1  0 -1 -1  1  2  3  0 -1 -1]\n",
        " [-1 -1 -1 -1 -1 -1 -1 -1 -1 -1]\n",
        " [-1 -1 -1 -1 -1 -1 -1 -1 -1 -1]\n",
        " [-1 -1 -1 -1 -1 -1 -1 -1 -1 -1]\n",
        " [-1 -1 -1 -1 -1 -1 -1 -1 -1 -1]]\n"
       ]
      }
     ],
     "prompt_number": 115
    },
    {
     "cell_type": "code",
     "collapsed": false,
     "input": [
      "hola.siguienteCoche(0)"
     ],
     "language": "python",
     "metadata": {},
     "outputs": [
      {
       "metadata": {},
       "output_type": "pyout",
       "prompt_number": 116,
       "text": [
        "[1, 4, 5, 6, 7]"
       ]
      }
     ],
     "prompt_number": 116
    },
    {
     "cell_type": "code",
     "collapsed": false,
     "input": [
      "hola.distancia()"
     ],
     "language": "python",
     "metadata": {},
     "outputs": [
      {
       "metadata": {},
       "output_type": "pyout",
       "prompt_number": 117,
       "text": [
        "[3, 1, 1, 1, 4]"
       ]
      }
     ],
     "prompt_number": 117
    },
    {
     "cell_type": "code",
     "collapsed": false,
     "input": [
      "for t in range(4):\n",
      "    hola.actualiza(t)\n",
      "\n",
      "hola.printea()"
     ],
     "language": "python",
     "metadata": {},
     "outputs": [
      {
       "output_type": "stream",
       "stream": "stdout",
       "text": [
        "[[-1  0 -1 -1  1  2  3  0 -1 -1]\n",
        " [-1 -1  1 -1  0  0  0 -1  1 -1]\n",
        " [ 2 -1 -1  1  0  0 -1  1 -1 -1]\n",
        " [-1 -1  2  0  0 -1  1 -1 -1  2]\n",
        " [-1  2  0  0 -1  1 -1 -1  2 -1]]\n"
       ]
      }
     ],
     "prompt_number": 125
    },
    {
     "cell_type": "code",
     "collapsed": false,
     "input": [
      "def creaMundo(t_max,s):\n",
      "    posicion = np.ones((t_max,s))*-1 \n",
      "    posicion = posicion.astype(np.int16)\n",
      "\n"
     ],
     "language": "python",
     "metadata": {},
     "outputs": [],
     "prompt_number": 32
    },
    {
     "cell_type": "code",
     "collapsed": false,
     "input": [
      "creaMundo(10,5)"
     ],
     "language": "python",
     "metadata": {},
     "outputs": [],
     "prompt_number": 33
    },
    {
     "cell_type": "code",
     "collapsed": false,
     "input": [
      "def creaCoches(s):\n",
      "    arr = np.arange(0,s+1)\n",
      "    coches = []\n",
      "    top = random.randrange(0,s+1)\n",
      "    for i in range(1,top):\n",
      "        coches.append(random.choice(arr))\n",
      "    coches = np.unique(coches)\n",
      "    num_coches = len(coches)\n",
      "    \n",
      "    return coches\n",
      "    "
     ],
     "language": "python",
     "metadata": {},
     "outputs": [],
     "prompt_number": 31
    },
    {
     "cell_type": "code",
     "collapsed": false,
     "input": [],
     "language": "python",
     "metadata": {},
     "outputs": []
    },
    {
     "cell_type": "code",
     "collapsed": false,
     "input": [
      "def creaLane(posicion,coches):\n",
      "    for i in range(0,num_coches-1):\n",
      "        posicion[t,coches[i]] =  random.randrange(1,v_max)"
     ],
     "language": "python",
     "metadata": {},
     "outputs": [],
     "prompt_number": 30
    },
    {
     "cell_type": "code",
     "collapsed": false,
     "input": [
      "creaLane(creaMundo(10,5),creaCoches(5))"
     ],
     "language": "python",
     "metadata": {},
     "outputs": [
      {
       "ename": "NameError",
       "evalue": "global name 'num_coches' is not defined",
       "output_type": "pyerr",
       "traceback": [
        "\u001b[1;31m---------------------------------------------------------------------------\u001b[0m\n\u001b[1;31mNameError\u001b[0m                                 Traceback (most recent call last)",
        "\u001b[1;32m<ipython-input-32-387db62c547c>\u001b[0m in \u001b[0;36m<module>\u001b[1;34m()\u001b[0m\n\u001b[1;32m----> 1\u001b[1;33m \u001b[0mcreaLane\u001b[0m\u001b[1;33m(\u001b[0m\u001b[0mcreaMundo\u001b[0m\u001b[1;33m(\u001b[0m\u001b[1;36m10\u001b[0m\u001b[1;33m,\u001b[0m\u001b[1;36m5\u001b[0m\u001b[1;33m)\u001b[0m\u001b[1;33m,\u001b[0m\u001b[0mcreaCoches\u001b[0m\u001b[1;33m(\u001b[0m\u001b[1;36m5\u001b[0m\u001b[1;33m)\u001b[0m\u001b[1;33m)\u001b[0m\u001b[1;33m\u001b[0m\u001b[0m\n\u001b[0m",
        "\u001b[1;32m<ipython-input-30-faef68e1afed>\u001b[0m in \u001b[0;36mcreaLane\u001b[1;34m(posicion, coches)\u001b[0m\n\u001b[0;32m      1\u001b[0m \u001b[1;32mdef\u001b[0m \u001b[0mcreaLane\u001b[0m\u001b[1;33m(\u001b[0m\u001b[0mposicion\u001b[0m\u001b[1;33m,\u001b[0m\u001b[0mcoches\u001b[0m\u001b[1;33m)\u001b[0m\u001b[1;33m:\u001b[0m\u001b[1;33m\u001b[0m\u001b[0m\n\u001b[1;32m----> 2\u001b[1;33m     \u001b[1;32mfor\u001b[0m \u001b[0mi\u001b[0m \u001b[1;32min\u001b[0m \u001b[0mrange\u001b[0m\u001b[1;33m(\u001b[0m\u001b[1;36m0\u001b[0m\u001b[1;33m,\u001b[0m\u001b[0mnum_coches\u001b[0m\u001b[1;33m-\u001b[0m\u001b[1;36m1\u001b[0m\u001b[1;33m)\u001b[0m\u001b[1;33m:\u001b[0m\u001b[1;33m\u001b[0m\u001b[0m\n\u001b[0m\u001b[0;32m      3\u001b[0m         \u001b[0mposicion\u001b[0m\u001b[1;33m[\u001b[0m\u001b[0mt\u001b[0m\u001b[1;33m,\u001b[0m\u001b[0mcoches\u001b[0m\u001b[1;33m[\u001b[0m\u001b[0mi\u001b[0m\u001b[1;33m]\u001b[0m\u001b[1;33m]\u001b[0m \u001b[1;33m=\u001b[0m  \u001b[0mrandom\u001b[0m\u001b[1;33m.\u001b[0m\u001b[0mrandrange\u001b[0m\u001b[1;33m(\u001b[0m\u001b[1;36m1\u001b[0m\u001b[1;33m,\u001b[0m\u001b[0mv_max\u001b[0m\u001b[1;33m)\u001b[0m\u001b[1;33m\u001b[0m\u001b[0m\n",
        "\u001b[1;31mNameError\u001b[0m: global name 'num_coches' is not defined"
       ]
      }
     ],
     "prompt_number": 32
    },
    {
     "cell_type": "code",
     "collapsed": false,
     "input": [
      "s = range(11)\n",
      "s\n",
      "print len(s)"
     ],
     "language": "python",
     "metadata": {},
     "outputs": [
      {
       "output_type": "stream",
       "stream": "stdout",
       "text": [
        "11\n"
       ]
      }
     ],
     "prompt_number": 34
    },
    {
     "cell_type": "code",
     "collapsed": false,
     "input": [
      "s"
     ],
     "language": "python",
     "metadata": {},
     "outputs": [
      {
       "metadata": {},
       "output_type": "pyout",
       "prompt_number": 35,
       "text": [
        "[0, 1, 2, 3, 4, 5, 6, 7, 8, 9, 10]"
       ]
      }
     ],
     "prompt_number": 35
    },
    {
     "cell_type": "code",
     "collapsed": false,
     "input": [
      "pr = np.ones(9).reshape(3,3)\n",
      "pr\n",
      "             "
     ],
     "language": "python",
     "metadata": {},
     "outputs": [
      {
       "metadata": {},
       "output_type": "pyout",
       "prompt_number": 5,
       "text": [
        "array([[ 1.,  1.,  1.],\n",
        "       [ 1.,  1.,  1.],\n",
        "       [ 1.,  1.,  1.]])"
       ]
      }
     ],
     "prompt_number": 5
    },
    {
     "cell_type": "code",
     "collapsed": false,
     "input": [
      "pr[0,3] = 2"
     ],
     "language": "python",
     "metadata": {},
     "outputs": [
      {
       "ename": "IndexError",
       "evalue": "index 3 is out of bounds for axis 1 with size 3",
       "output_type": "pyerr",
       "traceback": [
        "\u001b[1;31m---------------------------------------------------------------------------\u001b[0m\n\u001b[1;31mIndexError\u001b[0m                                Traceback (most recent call last)",
        "\u001b[1;32m<ipython-input-6-ae525b640236>\u001b[0m in \u001b[0;36m<module>\u001b[1;34m()\u001b[0m\n\u001b[1;32m----> 1\u001b[1;33m \u001b[0mpr\u001b[0m\u001b[1;33m[\u001b[0m\u001b[1;36m0\u001b[0m\u001b[1;33m,\u001b[0m\u001b[1;36m3\u001b[0m\u001b[1;33m]\u001b[0m \u001b[1;33m=\u001b[0m \u001b[1;36m2\u001b[0m\u001b[1;33m\u001b[0m\u001b[0m\n\u001b[0m",
        "\u001b[1;31mIndexError\u001b[0m: index 3 is out of bounds for axis 1 with size 3"
       ]
      }
     ],
     "prompt_number": 6
    },
    {
     "cell_type": "code",
     "collapsed": false,
     "input": [
      "a = np.ones(4)\n",
      "a\n"
     ],
     "language": "python",
     "metadata": {},
     "outputs": [
      {
       "metadata": {},
       "output_type": "pyout",
       "prompt_number": 8,
       "text": [
        "array([ 1.,  1.,  1.,  1.])"
       ]
      }
     ],
     "prompt_number": 8
    },
    {
     "cell_type": "code",
     "collapsed": false,
     "input": [
      "a[4] = 2"
     ],
     "language": "python",
     "metadata": {},
     "outputs": [
      {
       "ename": "IndexError",
       "evalue": "index 4 is out of bounds for axis 0 with size 4",
       "output_type": "pyerr",
       "traceback": [
        "\u001b[1;31m---------------------------------------------------------------------------\u001b[0m\n\u001b[1;31mIndexError\u001b[0m                                Traceback (most recent call last)",
        "\u001b[1;32m<ipython-input-9-1d45fef27536>\u001b[0m in \u001b[0;36m<module>\u001b[1;34m()\u001b[0m\n\u001b[1;32m----> 1\u001b[1;33m \u001b[0ma\u001b[0m \u001b[1;33m[\u001b[0m\u001b[1;36m4\u001b[0m\u001b[1;33m]\u001b[0m \u001b[1;33m=\u001b[0m \u001b[1;36m2\u001b[0m\u001b[1;33m\u001b[0m\u001b[0m\n\u001b[0m",
        "\u001b[1;31mIndexError\u001b[0m: index 4 is out of bounds for axis 0 with size 4"
       ]
      }
     ],
     "prompt_number": 9
    },
    {
     "cell_type": "code",
     "collapsed": false,
     "input": [],
     "language": "python",
     "metadata": {},
     "outputs": []
    }
   ],
   "metadata": {}
  }
 ]
}