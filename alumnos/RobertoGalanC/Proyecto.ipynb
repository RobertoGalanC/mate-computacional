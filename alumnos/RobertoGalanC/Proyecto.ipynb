{
 "metadata": {
  "name": "",
  "signature": "sha256:82cc048cd7159e178d8aaeb4795df51e94314e854d48cb2677d00339c34eae0e"
 },
 "nbformat": 3,
 "nbformat_minor": 0,
 "worksheets": [
  {
   "cells": [
    {
     "cell_type": "code",
     "collapsed": false,
     "input": [
      "%matplotlib inline\n",
      "%pylab inline\n",
      "import numpy as np\n",
      "import matplotlib.pyplot as plt\n",
      "import sympy\n",
      "import random"
     ],
     "language": "python",
     "metadata": {},
     "outputs": [
      {
       "output_type": "stream",
       "stream": "stdout",
       "text": [
        "Populating the interactive namespace from numpy and matplotlib\n"
       ]
      }
     ],
     "prompt_number": 23
    },
    {
     "cell_type": "code",
     "collapsed": false,
     "input": [
      "def trafico(s,v_max,t_max):\n",
      "    \"\"\"\n",
      "    s -> longitud del arreglo\n",
      "    v_max-> velocidad maxima \n",
      "    t_max-> \n",
      "    \"\"\"\n",
      "        \n",
      "    #matriz con la posicion de cada coche. Posiciones(i, j) es la posicion j al tiempo i inicializada en -1\n",
      "    posicion = np.ones((t_max,s))*-1 \n",
      "    posicion = posicion.astype(np.int16)\n",
      "    \n",
      "    arr = np.arange(1,s+1)\n",
      "    coches = []\n",
      "    top = random.randrange(1,s+1)\n",
      "    for i in range(1,top):\n",
      "        coches.append(random.choice(arr))\n",
      "    coches = np.unique(coches)\n",
      "    \n",
      "    num_coches = len(coches)\n",
      "   \n",
      "    t=0\n",
      "    \n",
      "    for i in range(0,num_coches-1):\n",
      "        posicion[t,coches[i]] =  random.randrange(1,v_max)\n",
      "        \n",
      "  \n",
      "    \n",
      "    while t<t_max & num_coches>0:\n",
      "        for i in range(0,s-2):\n",
      "            if posicion[t,arr[i]] != -1:\n",
      "                j = i+1\n",
      "                while posicion[t,j]==-1:\n",
      "                    j+=1\n",
      "                distancia = j - i\n",
      "                if distancia < posicion[t,i]:\n",
      "                    posicion[t,i]-=1 \n",
      "                else:\n",
      "                    posicion[t,i]= min(posicion[t,i]+1,v_max)\n",
      "        t+=1\n",
      "        for i in range(0,s-1):\n",
      "            if posicion[t-1,i] != -1:\n",
      "                if i + posicion[t-1,i] > s:\n",
      "                    num_coches -= 1\n",
      "                    posicion[t,i] = -1\n",
      "                else:\n",
      "                    posicion[t, posicion[t-1,i]+i] =  posicion[t-1,i]\n",
      "        \n",
      "        return posicion\n",
      "                    \n",
      "        \n",
      "                    \n",
      "                    \n",
      "                        \n",
      "            \n",
      "                \n",
      "        \n",
      "    \n",
      "    "
     ],
     "language": "python",
     "metadata": {},
     "outputs": [],
     "prompt_number": 149
    },
    {
     "cell_type": "code",
     "collapsed": false,
     "input": [
      "trafico(10,3,5)"
     ],
     "language": "python",
     "metadata": {},
     "outputs": [
      {
       "metadata": {},
       "output_type": "pyout",
       "prompt_number": 151,
       "text": [
        "array([[ 2,  2,  0,  1,  2,  1,  2,  1, -1,  2],\n",
        "       [-1, -1,  0,  2,  1, -1,  1, -1,  1, -1],\n",
        "       [-1, -1, -1, -1, -1, -1, -1, -1, -1, -1],\n",
        "       [-1, -1, -1, -1, -1, -1, -1, -1, -1, -1],\n",
        "       [-1, -1, -1, -1, -1, -1, -1, -1, -1, -1]], dtype=int16)"
       ]
      }
     ],
     "prompt_number": 151
    },
    {
     "cell_type": "code",
     "collapsed": false,
     "input": [
      "def trafico(s,v_max,t_max):\n",
      "    \"\"\"\n",
      "    s -> longitud del arreglo\n",
      "    v_max-> velocidad maxima \n",
      "    t_max-> \n",
      "    \"\"\"\n",
      "        \n",
      "    #matriz con la posicion de cada coche. Posiciones(i, j) es la posicion j al tiempo i inicializada en -1\n",
      "    posicion = np.ones((t_max,s))*-1 \n",
      "    posicion = posicion.astype(np.int16)\n",
      "    \n",
      "    arr = np.arange(1,s+1)\n",
      "    coches = []\n",
      "    top = random.randrange(1,s+1)\n",
      "    for i in range(1,top):\n",
      "        coches.append(random.choice(arr))\n",
      "    coches = np.unique(coches)\n",
      "    \n",
      "    num_coches = len(coches)\n",
      "   \n",
      "    t=0\n",
      "    \n",
      "    for i in range(0,num_coches-1):\n",
      "        posicion[t,coches[i]] =  random.randrange(1,v_max)\n",
      "        \n",
      "    for i in range(0,s-2):\n",
      "        if posicion[t,arr[i]] != -1:\n",
      "            j = i+1\n",
      "            while posicion[t,j]==-1:\n",
      "                j+=1\n",
      "            distancia = j - i\n",
      "            if distancia < posicion[t,i]:\n",
      "                posicion[t,i]-=1 \n",
      "            else:\n",
      "                posicion[t,i]= min(posicion[t,i]+1,v_max)    \n",
      "  \n",
      "    \n",
      "    while t<t_max & num_coches>0:\n",
      "        for i in range(0,s-2):\n",
      "            if posicion[t,arr[i]] != -1:\n",
      "                j = i+1\n",
      "                while posicion[t,j]==-1:\n",
      "                    j+=1\n",
      "                distancia = j - i\n",
      "                if distancia < posicion[t,i]:\n",
      "                    posicion[t,i]-=1 \n",
      "                else:\n",
      "                    posicion[t,i]= min(posicion[t,i]+1,v_max)\n",
      "        t+=1\n",
      "        for i in range(0,s-1):\n",
      "            if posicion[t-1,i] != -1:\n",
      "                if i + posicion[t-1,i] > s:\n",
      "                    num_coches -= 1\n",
      "                    posicion[t,i] = -1\n",
      "                else:\n",
      "                    posicion[t, posicion[t-1,i]+i] =  posicion[t-1,i]\n",
      "        \n",
      "        return posicion"
     ],
     "language": "python",
     "metadata": {},
     "outputs": [],
     "prompt_number": 156
    },
    {
     "cell_type": "code",
     "collapsed": false,
     "input": [
      "trafico(10,3,5)"
     ],
     "language": "python",
     "metadata": {},
     "outputs": [
      {
       "metadata": {},
       "output_type": "pyout",
       "prompt_number": 159,
       "text": [
        "array([[ 0,  1,  2,  0,  1,  2,  1,  1,  1, -1],\n",
        "       [ 0, -1,  1,  0,  2,  1, -1,  1,  1,  1],\n",
        "       [-1, -1, -1, -1, -1, -1, -1, -1, -1, -1],\n",
        "       [-1, -1, -1, -1, -1, -1, -1, -1, -1, -1],\n",
        "       [-1, -1, -1, -1, -1, -1, -1, -1, -1, -1]], dtype=int16)"
       ]
      }
     ],
     "prompt_number": 159
    },
    {
     "cell_type": "code",
     "collapsed": false,
     "input": [],
     "language": "python",
     "metadata": {},
     "outputs": []
    }
   ],
   "metadata": {}
  }
 ]
}