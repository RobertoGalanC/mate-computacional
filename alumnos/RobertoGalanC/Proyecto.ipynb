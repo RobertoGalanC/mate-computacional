{
 "metadata": {
  "name": "",
  "signature": "sha256:b8710953746d48b7ebc5f88806138b29d95d0924b8ac16808c97226462791788"
 },
 "nbformat": 3,
 "nbformat_minor": 0,
 "worksheets": [
  {
   "cells": [
    {
     "cell_type": "code",
     "collapsed": false,
     "input": [
      "%matplotlib inline\n",
      "%pylab inline\n",
      "import numpy as np\n",
      "import matplotlib.pyplot as plt\n",
      "import sympy\n",
      "import random"
     ],
     "language": "python",
     "metadata": {},
     "outputs": [
      {
       "output_type": "stream",
       "stream": "stdout",
       "text": [
        "Populating the interactive namespace from numpy and matplotlib\n"
       ]
      }
     ],
     "prompt_number": 3
    },
    {
     "cell_type": "code",
     "collapsed": false,
     "input": [
      "def trafico(s,v_max,t_max):\n",
      "    \"\"\"\n",
      "    s -> longitud del arreglo\n",
      "    v_max-> velocidad maxima \n",
      "    t_max-> \n",
      "    \"\"\"\n",
      "        \n",
      "    #matriz con la posicion de cada coche. Posiciones(i, j) es la posicion j al tiempo i inicializada en -1\n",
      "    posicion = np.ones((t_max,s))*-1 \n",
      "    posicion = posicion.astype(np.int16)\n",
      "    \n",
      "    arr = np.arange(0,s)\n",
      "    coches = []\n",
      "    top = random.randrange(0,s-1)\n",
      "    for i in range(1,top):\n",
      "        coches.append(random.choice(arr))\n",
      "        \n",
      "    coches = np.unique(coches)\n",
      "    \n",
      "    num_coches = len(coches)\n",
      "   \n",
      "    t=0\n",
      "    \n",
      "    for i in range(0,num_coches-1):\n",
      "        posicion[t,coches[i]] =  random.randint(1,v_max)\n",
      "        \n",
      "  \n",
      "    \n",
      "    while t<t_max and num_coches>0:\n",
      "        for i in range(0,s-2):\n",
      "            if posicion[t,arr[i]] != -1:\n",
      "                j = i+1\n",
      "                while (posicion[t,j]==-1) and (j<s):\n",
      "                    j+=1\n",
      "                distancia = j - i\n",
      "                if distancia < posicion[t,i]:\n",
      "                    posicion[t,i]-=1 \n",
      "                else:\n",
      "                    posicion[t,i]= min(posicion[t,i]+1,v_max)\n",
      "        t+=1\n",
      "        for i in range(0,s-1):\n",
      "            if posicion[t-1,i] != -1:\n",
      "                if i + posicion[t-1,i] > s:\n",
      "                    num_coches -= 1\n",
      "                    posicion[t,i] = -1\n",
      "                else:\n",
      "                    posicion[t, posicion[t-1,i]+i] = posicion[t-1,i]\n",
      "        \n",
      "        return posicion\n",
      "                    \n",
      "        \n",
      "                    \n",
      "                    \n",
      "                        \n",
      "            \n",
      "                \n",
      "        \n",
      "    \n",
      "    "
     ],
     "language": "python",
     "metadata": {},
     "outputs": [],
     "prompt_number": 52
    },
    {
     "cell_type": "code",
     "collapsed": false,
     "input": [
      "trafico(10,3,5)"
     ],
     "language": "python",
     "metadata": {},
     "outputs": [
      {
       "ename": "IndexError",
       "evalue": "index 10 is out of bounds for axis 1 with size 10",
       "output_type": "pyerr",
       "traceback": [
        "\u001b[1;31m---------------------------------------------------------------------------\u001b[0m\n\u001b[1;31mIndexError\u001b[0m                                Traceback (most recent call last)",
        "\u001b[1;32m<ipython-input-55-46eff2e1b892>\u001b[0m in \u001b[0;36m<module>\u001b[1;34m()\u001b[0m\n\u001b[1;32m----> 1\u001b[1;33m \u001b[0mtrafico\u001b[0m\u001b[1;33m(\u001b[0m\u001b[1;36m10\u001b[0m\u001b[1;33m,\u001b[0m\u001b[1;36m3\u001b[0m\u001b[1;33m,\u001b[0m\u001b[1;36m5\u001b[0m\u001b[1;33m)\u001b[0m\u001b[1;33m\u001b[0m\u001b[0m\n\u001b[0m",
        "\u001b[1;32m<ipython-input-52-800cff77bd59>\u001b[0m in \u001b[0;36mtrafico\u001b[1;34m(s, v_max, t_max)\u001b[0m\n\u001b[0;32m     31\u001b[0m             \u001b[1;32mif\u001b[0m \u001b[0mposicion\u001b[0m\u001b[1;33m[\u001b[0m\u001b[0mt\u001b[0m\u001b[1;33m,\u001b[0m\u001b[0marr\u001b[0m\u001b[1;33m[\u001b[0m\u001b[0mi\u001b[0m\u001b[1;33m]\u001b[0m\u001b[1;33m]\u001b[0m \u001b[1;33m!=\u001b[0m \u001b[1;33m-\u001b[0m\u001b[1;36m1\u001b[0m\u001b[1;33m:\u001b[0m\u001b[1;33m\u001b[0m\u001b[0m\n\u001b[0;32m     32\u001b[0m                 \u001b[0mj\u001b[0m \u001b[1;33m=\u001b[0m \u001b[0mi\u001b[0m\u001b[1;33m+\u001b[0m\u001b[1;36m1\u001b[0m\u001b[1;33m\u001b[0m\u001b[0m\n\u001b[1;32m---> 33\u001b[1;33m                 \u001b[1;32mwhile\u001b[0m \u001b[1;33m(\u001b[0m\u001b[0mposicion\u001b[0m\u001b[1;33m[\u001b[0m\u001b[0mt\u001b[0m\u001b[1;33m,\u001b[0m\u001b[0mj\u001b[0m\u001b[1;33m]\u001b[0m\u001b[1;33m==\u001b[0m\u001b[1;33m-\u001b[0m\u001b[1;36m1\u001b[0m\u001b[1;33m)\u001b[0m \u001b[1;32mand\u001b[0m \u001b[1;33m(\u001b[0m\u001b[0mj\u001b[0m\u001b[1;33m<\u001b[0m\u001b[0ms\u001b[0m\u001b[1;33m)\u001b[0m\u001b[1;33m:\u001b[0m\u001b[1;33m\u001b[0m\u001b[0m\n\u001b[0m\u001b[0;32m     34\u001b[0m                     \u001b[0mj\u001b[0m\u001b[1;33m+=\u001b[0m\u001b[1;36m1\u001b[0m\u001b[1;33m\u001b[0m\u001b[0m\n\u001b[0;32m     35\u001b[0m                 \u001b[0mdistancia\u001b[0m \u001b[1;33m=\u001b[0m \u001b[0mj\u001b[0m \u001b[1;33m-\u001b[0m \u001b[0mi\u001b[0m\u001b[1;33m\u001b[0m\u001b[0m\n",
        "\u001b[1;31mIndexError\u001b[0m: index 10 is out of bounds for axis 1 with size 10"
       ]
      }
     ],
     "prompt_number": 55
    },
    {
     "cell_type": "code",
     "collapsed": false,
     "input": [
      "def trafico(s,v_max,t_max):\n",
      "    \"\"\"\n",
      "    s -> longitud del arreglo\n",
      "    v_max-> velocidad maxima \n",
      "    t_max-> \n",
      "    \"\"\"\n",
      "        \n",
      "    #matriz con la posicion de cada coche. Posiciones(i, j) es la posicion j al tiempo i inicializada en -1\n",
      "    posicion = np.ones((t_max,s))*-1 \n",
      "    posicion = posicion.astype(np.int16)\n",
      "    \n",
      "    arr = np.arange(0,s)\n",
      "    coches = []\n",
      "    top = random.randint(0,s-1)\n",
      "    \n",
      "    for i in range(1,top):\n",
      "        coches.append(random.choice(arr))\n",
      "    coches = np.unique(coches)\n",
      "    print coches\n",
      "    num_coches = len(coches)\n",
      "   \n",
      "    t=0\n",
      "    \n",
      "    for i in range(0,num_coches-1):\n",
      "        posicion[t,coches[i]] =  random.randrange(1,v_max)\n",
      "        \n",
      "    for i in range(0,s-2):\n",
      "        if posicion[t,arr[i]] != -1:\n",
      "            j = i+1\n",
      "            while posicion[t,j]==-1:\n",
      "                j+=1\n",
      "            distancia = j - i\n",
      "            if distancia < posicion[t,i]:\n",
      "                posicion[t,i]-=1 \n",
      "            else:\n",
      "                posicion[t,i]= min(posicion[t,i]+1,v_max)    \n",
      "  \n",
      "    \n",
      "    while t<t_max & num_coches>0:\n",
      "        for i in range(0,s-3):\n",
      "            if posicion[t,arr[i]] != -1:\n",
      "                j = i+1\n",
      "                while posicion[t,j]==-1:\n",
      "                    j+=1\n",
      "                distancia = j - i\n",
      "                if distancia < posicion[t,i]:\n",
      "                    posicion[t,i]-=1 \n",
      "                else:\n",
      "                    posicion[t,i]= min(posicion[t,i]+1,v_max)\n",
      "        t+=1\n",
      "        for i in range(0,s-1):\n",
      "            if posicion[t-1,i] != -1:\n",
      "                if i + posicion[t-1,i] > s:\n",
      "                    num_coches -= 1\n",
      "                    posicion[t,i] = -1\n",
      "                else:\n",
      "                    posicion[t, posicion[t-1,i]+i] =  posicion[t-1,i]\n",
      "        \n",
      "        return posicion"
     ],
     "language": "python",
     "metadata": {},
     "outputs": [],
     "prompt_number": 37
    },
    {
     "cell_type": "code",
     "collapsed": false,
     "input": [
      "trafico(8,3,5)"
     ],
     "language": "python",
     "metadata": {},
     "outputs": [
      {
       "output_type": "stream",
       "stream": "stdout",
       "text": [
        "[2 4]\n"
       ]
      },
      {
       "ename": "IndexError",
       "evalue": "index 8 is out of bounds for axis 1 with size 8",
       "output_type": "pyerr",
       "traceback": [
        "\u001b[1;31m---------------------------------------------------------------------------\u001b[0m\n\u001b[1;31mIndexError\u001b[0m                                Traceback (most recent call last)",
        "\u001b[1;32m<ipython-input-40-eb49664e749e>\u001b[0m in \u001b[0;36m<module>\u001b[1;34m()\u001b[0m\n\u001b[1;32m----> 1\u001b[1;33m \u001b[0mtrafico\u001b[0m\u001b[1;33m(\u001b[0m\u001b[1;36m8\u001b[0m\u001b[1;33m,\u001b[0m\u001b[1;36m3\u001b[0m\u001b[1;33m,\u001b[0m\u001b[1;36m5\u001b[0m\u001b[1;33m)\u001b[0m\u001b[1;33m\u001b[0m\u001b[0m\n\u001b[0m",
        "\u001b[1;32m<ipython-input-37-ceb0c7825cdb>\u001b[0m in \u001b[0;36mtrafico\u001b[1;34m(s, v_max, t_max)\u001b[0m\n\u001b[0;32m     28\u001b[0m         \u001b[1;32mif\u001b[0m \u001b[0mposicion\u001b[0m\u001b[1;33m[\u001b[0m\u001b[0mt\u001b[0m\u001b[1;33m,\u001b[0m\u001b[0marr\u001b[0m\u001b[1;33m[\u001b[0m\u001b[0mi\u001b[0m\u001b[1;33m]\u001b[0m\u001b[1;33m]\u001b[0m \u001b[1;33m!=\u001b[0m \u001b[1;33m-\u001b[0m\u001b[1;36m1\u001b[0m\u001b[1;33m:\u001b[0m\u001b[1;33m\u001b[0m\u001b[0m\n\u001b[0;32m     29\u001b[0m             \u001b[0mj\u001b[0m \u001b[1;33m=\u001b[0m \u001b[0mi\u001b[0m\u001b[1;33m+\u001b[0m\u001b[1;36m1\u001b[0m\u001b[1;33m\u001b[0m\u001b[0m\n\u001b[1;32m---> 30\u001b[1;33m             \u001b[1;32mwhile\u001b[0m \u001b[0mposicion\u001b[0m\u001b[1;33m[\u001b[0m\u001b[0mt\u001b[0m\u001b[1;33m,\u001b[0m\u001b[0mj\u001b[0m\u001b[1;33m]\u001b[0m\u001b[1;33m==\u001b[0m\u001b[1;33m-\u001b[0m\u001b[1;36m1\u001b[0m\u001b[1;33m:\u001b[0m\u001b[1;33m\u001b[0m\u001b[0m\n\u001b[0m\u001b[0;32m     31\u001b[0m                 \u001b[0mj\u001b[0m\u001b[1;33m+=\u001b[0m\u001b[1;36m1\u001b[0m\u001b[1;33m\u001b[0m\u001b[0m\n\u001b[0;32m     32\u001b[0m             \u001b[0mdistancia\u001b[0m \u001b[1;33m=\u001b[0m \u001b[0mj\u001b[0m \u001b[1;33m-\u001b[0m \u001b[0mi\u001b[0m\u001b[1;33m\u001b[0m\u001b[0m\n",
        "\u001b[1;31mIndexError\u001b[0m: index 8 is out of bounds for axis 1 with size 8"
       ]
      }
     ],
     "prompt_number": 40
    },
    {
     "cell_type": "code",
     "collapsed": false,
     "input": [],
     "language": "python",
     "metadata": {},
     "outputs": [],
     "prompt_number": 39
    },
    {
     "cell_type": "code",
     "collapsed": false,
     "input": [],
     "language": "python",
     "metadata": {},
     "outputs": []
    }
   ],
   "metadata": {}
  }
 ]
}