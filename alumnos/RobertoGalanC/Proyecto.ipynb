{
 "metadata": {
  "name": "",
  "signature": "sha256:ede96ab03b60c510ccce9a892a6e6e2456d70d637a7a5fca923d9f494b92bd56"
 },
 "nbformat": 3,
 "nbformat_minor": 0,
 "worksheets": [
  {
   "cells": [
    {
     "cell_type": "code",
     "collapsed": false,
     "input": [
      "%matplotlib inline\n",
      "%pylab inline\n",
      "import numpy as np\n",
      "import matplotlib.pyplot as plt\n",
      "import sympy\n",
      "import random"
     ],
     "language": "python",
     "metadata": {},
     "outputs": [
      {
       "output_type": "stream",
       "stream": "stdout",
       "text": [
        "Populating the interactive namespace from numpy and matplotlib\n"
       ]
      },
      {
       "output_type": "stream",
       "stream": "stderr",
       "text": [
        "WARNING: pylab import has clobbered these variables: ['random']\n",
        "`%matplotlib` prevents importing * from pylab and numpy\n"
       ]
      }
     ],
     "prompt_number": 28
    },
    {
     "cell_type": "code",
     "collapsed": false,
     "input": [
      "from matplotlib import pyplot as plt\n",
      "from matplotlib import animation"
     ],
     "language": "python",
     "metadata": {},
     "outputs": [],
     "prompt_number": 29
    },
    {
     "cell_type": "code",
     "collapsed": false,
     "input": [
      "class Trafico:\n",
      "    \n",
      "     \n",
      "    def __init__(self,v_max,s):\n",
      "        \n",
      "        self.t_max = t_max\n",
      "        self.v_max = v_max\n",
      "        self.s = s\n",
      "        self.posicion=[]\n",
      "        self.lugar_coche=[]\n",
      "        self.distancias=[]\n",
      "        self.semaforo=[]\n",
      "        self.sig_Semaforo=[]\n",
      "        \n",
      "        \n",
      "        \n",
      "    def printea(self):\n",
      "        print self.posicion\n",
      "    \n",
      "    def creaMundo(self):\n",
      "        #En t=0 ponemos la velocidad actual de cada coche random.\n",
      "        for i in range(s):\n",
      "            vacio = random.randint(-1,0)\n",
      "            if vacio==0:\n",
      "                self.posicion.append(random.randint(0,self.v_max))\n",
      "            else:\n",
      "                self.posicion.append(-1)\n",
      "        print self.posicion\n",
      "        \n",
      "    def siguienteCoche(self,t):\n",
      "        self.lugar_coche=[]\n",
      "        for i in range(self.s):\n",
      "            if self.posicion[i]!=-1:\n",
      "                self.lugar_coche.append(i)\n",
      "        return self.lugar_coche\n",
      "    \n",
      "     \n",
      "    def distancia(self):\n",
      "        self.distancias =[]\n",
      "        for i in range(len(self.lugar_coche)-1):\n",
      "            self.distancias.append(self.lugar_coche[i+1] - self.lugar_coche[i])\n",
      "            \n",
      "        self.distancias.append(self.s - self.lugar_coche[len(self.lugar_coche)-1] + self.lugar_coche[0] )#el \u00faltimo coche tiene distancia hasta s\n",
      "        return self.distancias\n",
      "            \n",
      "            \n",
      "    def actualiza(self,t):\n",
      "        #dada una distancia calcula la velocidad den el tiempo t+1\n",
      "        self.siguienteCoche(t)\n",
      "        self.distancia()\n",
      "        for i in range (len(self.distancias)):\n",
      "            if self.distancias[i]-1<=self.posicion[self.lugar_coche[i]]:\n",
      "                nueva_vel = self.distancias[i]-1\n",
      "            else:\n",
      "                nueva_vel = min(self.v_max, self.posicion[self.lugar_coche[i]] + 1)\n",
      "            \n",
      "            self.posicion[(self.lugar_coche[i])] = -1\n",
      "            self.posicion[(self.lugar_coche[i] + nueva_vel) % self.s] = nueva_vel\n",
      "                \n",
      "        return self.posicion\n",
      "            \n",
      "    \n",
      "    def lugarSemaforo(self):\n",
      "        self.semaforo=[]\n",
      "        for i in range(self.s/10 +1):\n",
      "            self.semaforo.append(random.randint(0,self.s-1))\n",
      "        self.semaforo=np.unique(self.semaforo)\n",
      "        return self.semaforo\n",
      "    \n",
      "    def siguienteSemaforo(self):\n",
      "        self.siguienteCoche()\n",
      "        self.lugarSemaforo()\n",
      "        self.siguiente_Semaforo=[]        \n",
      "        for i in range(len(self.lugar_coche)):\n",
      "            self.siguiente_Semaforo.append(self.semaforo[0]) \n",
      "        k=0\n",
      "        for j in range (len(self.semaforo)):\n",
      "            while k<len(self.lugar_coche) and self.semaforo[j]>=self.lugar_coche[k]:\n",
      "                self.siguiente_Semaforo[k]=self.semaforo[j]\n",
      "                k=k+1\n",
      "        return self.siguiente_Semaforo\n",
      "        \n",
      "    #cada que actualiza calcula nuevos semaforos\n",
      "    def actualizaSemaforo(self, t):\n",
      "        self.siguienteCoche()\n",
      "        self.distancia()\n",
      "        self.lugarSemaforo()\n",
      "        self.siguienteSemaforo()\n",
      "        for i in range (len(self.distancias)):            \n",
      "            if self.distancias[i]-1<=self.posicion[self.lugar_coche[i]]:\n",
      "                nueva_vel = self.distancias[i]-1\n",
      "            else:\n",
      "                nueva_vel = min(self.v_max, self.posicion[self.lugar_coche[i]] + 1)\n",
      "            if 0<=t%10<=2: \n",
      "                #segundos 0, 1 y 2 estan en alto\n",
      "                distanciaSemaforo=self.siguiente_Semaforo[i]-self.lugar_coche[i]\n",
      "                if distanciaSemaforo<0:\n",
      "                    distanciaSemaforo=self.s-self.lugar_coche[i]+self.siguiente_Semaforo[i]\n",
      "                nueva_vel= min(nueva_vel, distanciaSemaforo)\n",
      "            self.posicion[(self.lugar_coche[i])] = -1\n",
      "            self.posicion[(self.lugar_coche[i] + nueva_vel) % self.s] = nueva_vel\n",
      "                \n",
      "        return self.posicion\n",
      "    \n",
      "    def MatrizTrafico(self,t_max):\n",
      "        self.trafico = np.zeros((t_max,self.s))\n",
      "        for t in range(t_max):\n",
      "            vector = np.array(obj.actualiza(t))\n",
      "            for j in range(self.s):\n",
      "                self.trafico[t,j]= vector[j]\n",
      "        return self.trafico\n",
      "    \n",
      "    def Grafica(self, t_max):\n",
      "        A= self.MatrizTrafico(t_max)\n",
      "        print \"Actualizaciones del carril\"\n",
      "        print A\n",
      "        for i in range(len(A)):\n",
      "            plt.ylim(-0.5, self.s/len(self.lugar_coche)+3)\n",
      "            plt.scatter(np.arange(0,self.s), A[i])\n",
      "            plt.show()\n",
      "            print A[i]\n",
      "        \n",
      "    \"\"\"    \n",
      "    \n",
      "    def semaforo(self):\n",
      "        self.semaforo=[]\n",
      "        for i in range(s/10 + 1):\n",
      "            self.semaforo.append(random.int(0,s-1))\n",
      "        self.semaforo=np.unique(self.semaforo)\n",
      "        \n",
      "    def siguiente_Semaforo():\n",
      "        self.siguiente_Semaforo=[]\n",
      "        for i in range(len(lugar_coche)):\n",
      "            \n",
      "            \n",
      "    def actualiza_Semaforo(self, t):\n",
      "        self.siguienteCoche(t)\n",
      "        self.distancia()\n",
      "        self.semaforo()\n",
      "        self.siguiente_Semaforo()\n",
      "        for i in range (len(self.distancias)):\n",
      "            \n",
      "            if self.distancias[i]-1<=self.posicion[t][self.lugar_coche[i]]:\n",
      "                nueva_vel = self.distancias[i]-1\n",
      "            else:\n",
      "                nueva_vel = min(self.v_max, self.posicion[t][self.lugar_coche[i]] + 1)\n",
      "            nueva_vel= min(nueva_vel, self.sig_semaforo[i]-lugar_coche[i])\n",
      "            \n",
      "            self.posicion[t+1][(self.lugar_coche[i] + nueva_vel) % self.s] = nueva_vel\n",
      "                \n",
      "        return self.posicion\n",
      "        \"\"\""
     ],
     "language": "python",
     "metadata": {},
     "outputs": [],
     "prompt_number": 30
    },
    {
     "cell_type": "code",
     "collapsed": false,
     "input": [
      "#velocidad maxima\n",
      "v_max=30\n",
      "#longitud de la calle\n",
      "s=20\n",
      "#tiempo que se va a actualizar\n",
      "t_max=10\n",
      "\n",
      "obj=Trafico(v_max, s)\n"
     ],
     "language": "python",
     "metadata": {},
     "outputs": [],
     "prompt_number": 31
    },
    {
     "cell_type": "code",
     "collapsed": false,
     "input": [
      "obj.creaMundo()"
     ],
     "language": "python",
     "metadata": {},
     "outputs": [
      {
       "output_type": "stream",
       "stream": "stdout",
       "text": [
        "[-1, -1, 6, 23, 20, -1, -1, 16, 2, -1, 26, 0, -1, -1, 26, -1, 4, 4, -1, -1]\n"
       ]
      }
     ],
     "prompt_number": 32
    },
    {
     "cell_type": "code",
     "collapsed": false,
     "input": [
      "obj.Grafica(t_max)"
     ],
     "language": "python",
     "metadata": {},
     "outputs": [
      {
       "output_type": "stream",
       "stream": "stdout",
       "text": [
        "Actualizaciones del carril\n",
        "[[-1.  4.  0.  0. -1. -1.  2.  0. -1.  1.  0. -1.  1. -1. -1.  1.  0. -1.\n",
        "  -1. -1.]\n",
        " [-1.  0.  0. -1.  1. -1.  0. -1.  1.  0. -1.  1. -1. -1.  2.  0. -1.  1.\n",
        "  -1. -1.]\n",
        " [-1.  0. -1.  1. -1.  1. -1.  1.  0. -1.  1. -1. -1.  2.  0. -1.  1. -1.\n",
        "  -1.  2.]\n",
        " [ 1. -1.  1. -1.  1. -1.  1.  0. -1.  1. -1. -1.  2.  0. -1.  1. -1. -1.\n",
        "   2. -1.]\n",
        " [-1.  1. -1.  1. -1.  1.  0. -1.  1. -1. -1.  2.  0. -1.  1. -1. -1.  2.\n",
        "  -1.  1.]\n",
        " [ 1. -1.  1. -1.  1.  0. -1.  1. -1. -1.  2.  0. -1.  1. -1. -1.  2. -1.\n",
        "   1. -1.]\n",
        " [-1.  1. -1.  1.  0. -1.  1. -1. -1.  2.  0. -1.  1. -1. -1.  2. -1.  1.\n",
        "  -1.  1.]\n",
        " [ 1. -1.  1.  0. -1.  1. -1. -1.  2.  0. -1.  1. -1. -1.  2. -1.  1. -1.\n",
        "   1. -1.]\n",
        " [-1.  1.  0. -1.  1. -1. -1.  2.  0. -1.  1. -1. -1.  2. -1.  1. -1.  1.\n",
        "  -1.  1.]\n",
        " [ 1.  0. -1.  1. -1. -1.  2.  0. -1.  1. -1. -1.  2. -1.  1. -1.  1. -1.\n",
        "   1. -1.]]"
       ]
      },
      {
       "output_type": "stream",
       "stream": "stdout",
       "text": [
        "\n"
       ]
      },
      {
       "metadata": {},
       "output_type": "display_data",
       "png": "[encoded data removed]",
       "text": [
        "<matplotlib.figure.Figure at 0x78c0ed0>"
       ]
      },
      {
       "output_type": "stream",
       "stream": "stdout",
       "text": [
        "[-1.  4.  0.  0. -1. -1.  2.  0. -1.  1.  0. -1.  1. -1. -1.  1.  0. -1.\n",
        " -1. -1.]\n"
       ]
      },
      {
       "metadata": {},
       "output_type": "display_data",
       "png": "[encoded data removed]",
       "text": [
        "<matplotlib.figure.Figure at 0x784d5f0>"
       ]
      },
      {
       "output_type": "stream",
       "stream": "stdout",
       "text": [
        "[-1.  0.  0. -1.  1. -1.  0. -1.  1.  0. -1.  1. -1. -1.  2.  0. -1.  1.\n",
        " -1. -1.]\n"
       ]
      },
      {
       "metadata": {},
       "output_type": "display_data",
       "png": "[encoded data removed]",
       "text": [
        "<matplotlib.figure.Figure at 0x78d7550>"
       ]
      },
      {
       "output_type": "stream",
       "stream": "stdout",
       "text": [
        "[-1.  0. -1.  1. -1.  1. -1.  1.  0. -1.  1. -1. -1.  2.  0. -1.  1. -1.\n",
        " -1.  2.]\n"
       ]
      },
      {
       "metadata": {},
       "output_type": "display_data",
       "png": "[encoded data removed]",
       "text": [
        "<matplotlib.figure.Figure at 0x7bbde50>"
       ]
      },
      {
       "output_type": "stream",
       "stream": "stdout",
       "text": [
        "[ 1. -1.  1. -1.  1. -1.  1.  0. -1.  1. -1. -1.  2.  0. -1.  1. -1. -1.\n",
        "  2. -1.]\n"
       ]
      },
      {
       "metadata": {},
       "output_type": "display_data",
       "png": "[encoded data removed]",
       "text": [
        "<matplotlib.figure.Figure at 0x7dab7b0>"
       ]
      },
      {
       "output_type": "stream",
       "stream": "stdout",
       "text": [
        "[-1.  1. -1.  1. -1.  1.  0. -1.  1. -1. -1.  2.  0. -1.  1. -1. -1.  2.\n",
        " -1.  1.]\n"
       ]
      },
      {
       "metadata": {},
       "output_type": "display_data",
       "png": "[encoded data removed]",
       "text": [
        "<matplotlib.figure.Figure at 0x8067430>"
       ]
      },
      {
       "output_type": "stream",
       "stream": "stdout",
       "text": [
        "[ 1. -1.  1. -1.  1.  0. -1.  1. -1. -1.  2.  0. -1.  1. -1. -1.  2. -1.\n",
        "  1. -1.]\n"
       ]
      },
      {
       "metadata": {},
       "output_type": "display_data",
       "png": "[encoded data removed]",
       "text": [
        "<matplotlib.figure.Figure at 0x79efc50>"
       ]
      },
      {
       "output_type": "stream",
       "stream": "stdout",
       "text": [
        "[-1.  1. -1.  1.  0. -1.  1. -1. -1.  2.  0. -1.  1. -1. -1.  2. -1.  1.\n",
        " -1.  1.]\n"
       ]
      },
      {
       "metadata": {},
       "output_type": "display_data",
       "png": "[encoded data removed]",
       "text": [
        "<matplotlib.figure.Figure at 0x817df10>"
       ]
      },
      {
       "output_type": "stream",
       "stream": "stdout",
       "text": [
        "[ 1. -1.  1.  0. -1.  1. -1. -1.  2.  0. -1.  1. -1. -1.  2. -1.  1. -1.\n",
        "  1. -1.]\n"
       ]
      },
      {
       "metadata": {},
       "output_type": "display_data",
       "png": "[encoded data removed]",
       "text": [
        "<matplotlib.figure.Figure at 0x7cde1f0>"
       ]
      },
      {
       "output_type": "stream",
       "stream": "stdout",
       "text": [
        "[-1.  1.  0. -1.  1. -1. -1.  2.  0. -1.  1. -1. -1.  2. -1.  1. -1.  1.\n",
        " -1.  1.]\n"
       ]
      },
      {
       "metadata": {},
       "output_type": "display_data",
       "png": "[encoded data removed]",
       "text": [
        "<matplotlib.figure.Figure at 0x8489f70>"
       ]
      },
      {
       "output_type": "stream",
       "stream": "stdout",
       "text": [
        "[ 1.  0. -1.  1. -1. -1.  2.  0. -1.  1. -1. -1.  2. -1.  1. -1.  1. -1.\n",
        "  1. -1.]\n"
       ]
      }
     ],
     "prompt_number": 33
    },
    {
     "cell_type": "code",
     "collapsed": false,
     "input": [
      "class Ciudad:\n",
      "    \n",
      "    \n",
      "    def __init__(self, v_max, h, s):\n",
      "        self.v_max= v_max\n",
      "        self.s=s\n",
      "        self.h=h\n",
      "        self.calle=[]\n",
      "        self.lugar_coche_fila=[]\n",
      "        self.lugar_coche_columna=[]\n",
      "        self.distancia_fila=[]\n",
      "        self.distancia_columna=[]\n",
      "        \n",
      "        self.calle= np.ones((self.h,self.s))*-2\n",
      "        self.calle = self.calle.astype(np.int16)\n",
      "    \n",
      "    def creaMundo(self):\n",
      "        for i in range(self.h):\n",
      "            for j in range(self.s):\n",
      "                if i%3==0 or j%3==0:\n",
      "                    vacio = random.randint(-1,0)\n",
      "                    if vacio==0:\n",
      "                        self.calle[i][j] =  random.randint(0,self.v_max)\n",
      "                    else:\n",
      "                         self.calle[i][j] = -1\n",
      "                        \n",
      "                        \n",
      "    def imprime(self):\n",
      "        print self.calle\n",
      "    \n",
      "    def lugarCoche_fila(self, i):\n",
      "        self.lugar_coche_fila=[]\n",
      "        for j in range(self.s):\n",
      "            if self.calle[i][j]!=-1:\n",
      "                self.lugar_coche_fila.append(j)\n",
      "        return self.lugar_coche_fila\n",
      "    \n",
      "    def lugarCoche_columna(self, j):\n",
      "        self.lugar_coche_columna=[]\n",
      "        for i in range(self.h):\n",
      "            if self.calle[i][j]!=-1:\n",
      "                self.lugar_coche_columna.append(i)\n",
      "        return self.lugar_coche_columna\n",
      "    \n",
      "    \n",
      "    def distanciaFila(self):\n",
      "        self.distancia_fila=[]\n",
      "        for i in range(len(self.lugar_coche_fila) -1):\n",
      "            self.distancia_fila.append(self.lugar_coche_fila[i+1]- self.lugar_coche_fila[i])\n",
      "        self.distancia_fila.append(self.s - self.lugar_coche_fila[len(self.lugar_coche_fila)-1] + self.lugar_coche_fila[0])\n",
      "        return self.distancia_fila\n",
      "    \n",
      "        \n",
      "    def distanciaColumna(self):\n",
      "        self.distancia_columna=[]\n",
      "        for i in range(len(self.lugar_coche_columna) -1):\n",
      "            self.distancia_columna.append(self.lugar_coche_columna[i+1]- self.lugar_coche_columna[i])\n",
      "\n",
      "        self.distancia_columna.append(self.h - self.lugar_coche_columna[len(self.lugar_coche_columna)-1] + self.lugar_coche_columna[0])\n",
      "        return self.distancia_columna\n",
      "        \n",
      "    \n",
      "    def actualiza(self):\n",
      "        for i in range(self.h):\n",
      "            if i%3==0:\n",
      "                self.lugarCoche_fila(i)\n",
      "                self.distanciaFila()\n",
      "                for j in range (len(self.distancia_fila)):\n",
      "                    if self.distancia_fila[j]-1<=self.calle[i][self.lugar_coche_fila[j]]:\n",
      "                        nueva_vel = self.distancia_fila[j]-1\n",
      "                    else:\n",
      "                        nueva_vel = min(self.v_max, self.calle [i][self.lugar_coche_fila[j]] + 1)\n",
      "                    self.calle[i][self.lugar_coche_fila[j]]=-1\n",
      "                    self.calle[i][(self.lugar_coche_fila[j] + nueva_vel) % self.s] = nueva_vel\n",
      "  \n",
      "        for k in range(self.s):\n",
      "            if k%3==0:\n",
      "                self.lugarCoche_columna(k)\n",
      "                self.distanciaColumna()\n",
      "                for l in range (len(self.distancia_columna)):\n",
      "                    if self.distancia_columna[l]-1<=self.calle[self.lugar_coche_columna[l]][k]:\n",
      "                        nueva_vel = self.distancia_columna[l]-1\n",
      "                    else:\n",
      "                        nueva_vel = min(self.v_max, self.calle[self.lugar_coche_columna[l]][k] + 1)\n",
      "                    self.calle[self.lugar_coche_columna[l]][k]=-1\n",
      "                    self.calle[(self.lugar_coche_columna[l]+nueva_vel)%self.h][k] = nueva_vel\n",
      "            return self.calle\n",
      "    \n",
      "        \n",
      "    def actualizaSemaforos(self, t):\n",
      "        for i in range(self.h):\n",
      "            if i%3==0:\n",
      "                self.lugarCoche_fila(i)\n",
      "                self.distanciaFila()\n",
      "                for j in range (len(self.distancia_fila)):\n",
      "                    if self.distancia_fila[j]-1<=self.calle[i][self.lugar_coche_fila[j]]:\n",
      "                        nueva_vel = self.distancia_fila[j]-1\n",
      "                    else:\n",
      "                        nueva_vel = min(self.v_max, self.calle [i][self.lugar_coche_fila[j]] + 1)\n",
      "                    self.calle[i][self.lugar_coche_fila[j]]=-1\n",
      "                    self.calle[i][(self.lugar_coche_fila[j] + nueva_vel) % self.s] = nueva_vel\n",
      "                    if 0<=t%10<=4:\n",
      "                        nueva_vel= min(nueva_vel, (5-j)%5)\n",
      "                    self.calle[i][(self.lugar_coche_fila[j] + nueva_vel) % self.s] = nueva_vel\n",
      "                    \n",
      "        for k in range(self.s):\n",
      "            if k%3==0:\n",
      "                self.lugarCoche_columna(k)\n",
      "                self.distanciaColumna()\n",
      "                for l in range (len(self.distancia_columna)):\n",
      "                    if self.distancia_columna[l]-1<=self.calle[self.lugar_coche_columna[l]][k]:\n",
      "                        nueva_vel = self.distancia_columna[l]-1  \n",
      "                    else:\n",
      "                        nueva_vel = min(self.v_max, self.calle[self.lugar_coche_columna[l]][k] + 1)\n",
      "                    self.calle[self.lugar_coche_columna[l]][k]=-1\n",
      "                    self.calle[(self.lugar_coche_columna[l]+nueva_vel)%self.h][k] = nueva_vel                \n",
      "                    if 5<=t%10<=9:\n",
      "                        nueva_vel= min(nueva_vel, (5-l)%5)\n",
      "                    self.calle[(self.lugar_coche_columna[l]+nueva_vel)%self.h][k] = nueva_vel\n",
      "                    \n",
      "                return self.calle\n",
      "\n",
      "    \n",
      "    def graficaCiudad(self):\n",
      "        A = self.calle\n",
      "        fig,ax = plt.subplots()\n",
      "        im = ax.imshow(A, interpolation='nearest', cmap=plt.cm.ocean, extent=(0,self.s,0,self.h))\n",
      "        cb = fig.colorbar(im, ax=ax)\n",
      "        plt.show()\n",
      "    \n",
      "    def actualizaEspacioF(self, t):\n",
      "        for i in range(self.h):\n",
      "            if i%3==0:\n",
      "                self.lugarCoche_fila(i)\n",
      "                self.distanciaFila()\n",
      "                for j in range (len(self.distancia_fila)):\n",
      "                    if self.distancia_fila[j]-1<=self.calle[i][self.lugar_coche_fila[j]]:\n",
      "                        if self.distancia_fila[j]>1:\n",
      "                            nueva_vel = self.distancia_fila[j]-2\n",
      "                        else:\n",
      "                            nueva_vel=self.distancia_fila[j]-1\n",
      "                    else:\n",
      "                        nueva_vel = self.calle [i][self.lugar_coche_fila[j]]\n",
      "                        \n",
      "                    self.calle[i][self.lugar_coche_fila[j]]=-1\n",
      "                    if 0<=t%10<=4:\n",
      "                        nueva_vel= min(nueva_vel, (5-j)%5)\n",
      "                    self.calle[i][(self.lugar_coche_fila[j] + nueva_vel) % self.s] = nueva_vel    \n",
      "                    \n",
      "        for k in range(self.s):\n",
      "            if k%3==0:\n",
      "                self.lugarCoche_columna(k)\n",
      "                self.distanciaColumna()\n",
      "                for l in range (len(self.distancia_columna)):\n",
      "                    if self.distancia_columna[l]-1<=self.calle[self.lugar_coche_columna[l]][k]:\n",
      "                        if self.distancia_columna[l]>1:\n",
      "                            nueva_vel = self.distancia_columna[l]-2\n",
      "                        else:\n",
      "                            nueva_vel = self.distancia_columna[l]-2\n",
      "                    else:\n",
      "                        nueva_vel = self.calle[self.lugar_coche_columna[l]][k] \n",
      "                    self.calle[self.lugar_coche_columna[l]][k]=-1                \n",
      "                    if 5<=t%10<=9:\n",
      "                        nueva_vel= min(nueva_vel, (5-l)%5)\n",
      "                    self.calle[(self.lugar_coche_columna[l]+nueva_vel)%self.h][k] = nueva_vel\n",
      "        return self.calle\n",
      "    \n",
      "    def actualizaChoque(self, t):\n",
      "        for i in range(self.h):\n",
      "            if i%3==0:\n",
      "                self.lugarCoche_fila(i)\n",
      "                self.distanciaFila()\n",
      "                for j in range (len(self.distancia_fila)):\n",
      "                    if 2*self.distancia_fila[j]-1<=self.calle[i][self.lugar_coche_fila[j]]:\n",
      "                        nueva_vel=self.distancia[j]\n",
      "                        #choca con el siguiente coche y se convierte en -2\n",
      "                    else:\n",
      "                        if self.distancia_fila[j]-1<=self.calle[i][self.lugar_coche_fila[j]]:\n",
      "                            nueva_vel = self.distancia_fila[j]-1\n",
      "\n",
      "                        else:\n",
      "                            nueva_vel = min(self.v_max, self.calle [i][self.lugar_coche_fila[j]] + 1)\n",
      "                            \n",
      "                        self.calle[i][self.lugar_coche_fila[j]]=-1\n",
      "                        \n",
      "                        if 0<=t%10<=4:\n",
      "                            nueva_vel= min(nueva_vel, (5-j)%5)\n",
      "                        if self.calle[i][(self.lugar_coche_fila[j] + nueva_vel) % self.s]!=-1:\n",
      "                            self.calle[i][(self.lugar_coche_fila[j] + nueva_vel) % self.s]=-2\n",
      "                        else:\n",
      "                            self.calle[i][(self.lugar_coche_fila[j] + nueva_vel) % self.s] = nueva_vel\n",
      "                    \n",
      "        for k in range(self.s):\n",
      "            if k%3==0:\n",
      "                self.lugarCoche_columna(k)\n",
      "                self.distanciaColumna()\n",
      "                for l in range (len(self.distancia_columna)):\n",
      "                    if self.distancia_columna[l]-1<=self.calle[self.lugar_coche_columna[l]][k]:\n",
      "                        nueva_vel = self.distancia_columna[l]-1\n",
      "                    else:\n",
      "                        nueva_vel = min(self.v_max, self.calle[self.lugar_coche_columna[l]][k] + 1)\n",
      "                    self.calle[self.lugar_coche_columna[l]][k]=-1    \n",
      "                    \n",
      "                    if 5<=t%10<=9:\n",
      "                        nueva_vel= min(nueva_vel, (5-l)%5)\n",
      "                    self.calle[(self.lugar_coche_columna[l]+nueva_vel)%self.h][k] = nueva_vel\n",
      "                return self.calle\n",
      "            \n",
      " #estableceremos una regla mas agresiva\n",
      "            \n",
      "    def actualizaChoque2(self,t):\n",
      "        for i in range(self.h):\n",
      "            if i%3==0:\n",
      "                self.lugarCoche_fila(i)\n",
      "                self.distanciaFila()\n",
      "                for j in range (len(self.distancia_fila)):\n",
      "                    #if j % len(self.lugar_coche_fila) == 0:\n",
      "                    if (3*self.distancia_fila[j])-1 <= self.calle[i][self.lugar_coche_fila[j]]:\n",
      "                        avance = self.distancia_fila[j]\n",
      "                        nueva_vel= -1 #choque\n",
      "                        \n",
      "                    else:\n",
      "                        if self.distancia_fila[j]-1 <= self.calle[i][self.lugar_coche_fila[j]]:\n",
      "                            avance = self.distancia_fila[j]-1\n",
      "                            nueva_vel = self.distancia_fila[j]-1\n",
      "                        else:\n",
      "                            avance = min(self.v_max, self.calle [i][self.lugar_coche_fila[j]] + 1)\n",
      "                            nueva_vel = min(self.v_max, self.calle [i][self.lugar_coche_fila[j]] + 1)\n",
      "                            \n",
      "                    self.calle[i][self.lugar_coche_fila[j]]=-1\n",
      "                    self.calle[i][(self.lugar_coche_fila[j] + avance) % self.s] = nueva_vel\n",
      "                    \n",
      "                    if nueva_vel == -1:\n",
      "                        if 0<=t%10<=4:\n",
      "                            avance= min(avance, (5-j)%5)\n",
      "                        self.calle[i][(self.lugar_coche_fila[j] + avance) % self.s] = avance\n",
      "                        \n",
      "                        \n",
      "                        \n",
      "        for k in range(self.s):\n",
      "            if k%3==0:\n",
      "                self.lugarCoche_columna(k)\n",
      "                self.distanciaColumna()\n",
      "                for l in range (len(self.distancia_columna)):\n",
      "                    #if l % len(self.lugar_coche_columna) == 0:\n",
      "                    if (3*self.distancia_columna[l])-1<=self.calle[self.lugar_coche_columna[l]][k]:\n",
      "                        avance = self.distancia_columna[l]\n",
      "                        nueva_vel2= -1 #choque\n",
      "                    else:\n",
      "                        if self.distancia_columna[l]-1<=self.calle[self.lugar_coche_columna[l]][k]:\n",
      "                            avance = self.distancia_columna[l] - 1 \n",
      "                            nueva_vel2= self.distancia_columna[l] - 1 \n",
      "                        else:\n",
      "                            avance = min(self.v_max, self.calle[self.lugar_coche_columna[l]][k] + 1)\n",
      "                            nueva_vel2= min(self.v_max, self.calle[self.lugar_coche_columna[l]][k] + 1)\n",
      "                            \n",
      "                        \n",
      "                    self.calle[self.lugar_coche_columna[l]][k]=-1\n",
      "                    self.calle[(self.lugar_coche_columna[l]+ avance)%self.h][k] = nueva_vel2\n",
      "                    \n",
      "                    if nueva_vel2 == -1:\n",
      "                        if 5<=t%10<=9:\n",
      "                            avance= min(avance, (5-l)%5)\n",
      "                        self.calle[(self.lugar_coche_columna[l]+ avance)%self.h][k] = avance   \n",
      "                            \n",
      "    \n",
      "            return self.calle"
     ],
     "language": "python",
     "metadata": {},
     "outputs": [],
     "prompt_number": 230
    },
    {
     "cell_type": "code",
     "collapsed": false,
     "input": [
      "v_max=7\n",
      "h=10\n",
      "s=15"
     ],
     "language": "python",
     "metadata": {},
     "outputs": [],
     "prompt_number": 231
    },
    {
     "cell_type": "code",
     "collapsed": false,
     "input": [
      "obj= Ciudad(v_max, h, s)"
     ],
     "language": "python",
     "metadata": {},
     "outputs": [],
     "prompt_number": 232
    },
    {
     "cell_type": "code",
     "collapsed": true,
     "input": [
      "obj.creaMundo()\n",
      "obj.imprime()"
     ],
     "language": "python",
     "metadata": {},
     "outputs": [
      {
       "output_type": "stream",
       "stream": "stdout",
       "text": [
        "[[ 0  1  3  0 -1  4 -1 -1  1 -1 -1  7  5 -1 -1]\n",
        " [-1 -2 -2 -1 -2 -2  1 -2 -2  7 -2 -2 -1 -2 -2]\n",
        " [-1 -2 -2 -1 -2 -2 -1 -2 -2  5 -2 -2  2 -2 -2]\n",
        " [-1  3 -1 -1 -1 -1  6 -1 -1  6  3  6  1 -1 -1]\n",
        " [-1 -2 -2  3 -2 -2 -1 -2 -2  2 -2 -2  0 -2 -2]\n",
        " [ 0 -2 -2 -1 -2 -2  3 -2 -2  1 -2 -2 -1 -2 -2]\n",
        " [-1 -1 -1  0  2  1  4  7 -1  5  7  5 -1 -1 -1]\n",
        " [ 1 -2 -2  1 -2 -2  6 -2 -2 -1 -2 -2 -1 -2 -2]\n",
        " [ 4 -2 -2  7 -2 -2  0 -2 -2 -1 -2 -2 -1 -2 -2]\n",
        " [ 7 -1  0  0  4 -1  0 -1  6 -1  0 -1 -1  2 -1]]\n"
       ]
      }
     ],
     "prompt_number": 233
    },
    {
     "cell_type": "code",
     "collapsed": false,
     "input": [
      "obj.actualizaChoque2(4)"
     ],
     "language": "python",
     "metadata": {},
     "outputs": [
      {
       "metadata": {},
       "output_type": "pyout",
       "prompt_number": 240,
       "text": [
        "array([[-1, -1,  2, -1, -1, -1,  3, -1, -1, -1,  3, -1,  1, -1,  1],\n",
        "       [ 2, -2, -2, -1, -2, -2,  1, -2, -2,  7, -2, -2, -1, -2, -2],\n",
        "       [ 0, -2, -2, -1, -2, -2, -1, -2, -2,  5, -2, -2,  2, -2, -2],\n",
        "       [-1, -1, -1, -1, -1, -1,  3, -1,  1, -1, -1,  2, -1, -1, -1],\n",
        "       [-1, -2, -2,  3, -2, -2, -1, -2, -2,  2, -2, -2,  0, -2, -2],\n",
        "       [ 2, -2, -2, -1, -2, -2,  3, -2, -2,  1, -2, -2, -1, -2, -2],\n",
        "       [-1,  0, -1, -1, -1,  1,  0, -1,  1, -1, -1,  2, -1, -1,  2],\n",
        "       [ 1, -2, -2,  1, -2, -2,  6, -2, -2, -1, -2, -2, -1, -2, -2],\n",
        "       [ 0, -2, -2,  7, -2, -2,  0, -2, -2, -1, -2, -2, -1, -2, -2],\n",
        "       [-1, -1, -1,  1,  0, -1,  1, -1,  1, -1, -1,  2, -1, -1, -1]], dtype=int16)"
       ]
      }
     ],
     "prompt_number": 240
    },
    {
     "cell_type": "code",
     "collapsed": false,
     "input": [
      "obj.graficaCiudad()"
     ],
     "language": "python",
     "metadata": {},
     "outputs": [
      {
       "metadata": {},
       "output_type": "display_data",
       "png": "[encoded data removed]",
       "text": [
        "<matplotlib.figure.Figure at 0x7d01970>"
       ]
      }
     ],
     "prompt_number": 241
    },
    {
     "cell_type": "code",
     "collapsed": false,
     "input": [],
     "language": "python",
     "metadata": {},
     "outputs": [],
     "prompt_number": 193
    },
    {
     "cell_type": "code",
     "collapsed": false,
     "input": [
      "obj.actualizaSemaforos(0)"
     ],
     "language": "python",
     "metadata": {},
     "outputs": [
      {
       "metadata": {},
       "output_type": "pyout",
       "prompt_number": 14,
       "text": [
        "array([[ 0, -1,  1,  0, -1,  1, -1, -1, -1, -1,  2,  0,  0, -1,  1],\n",
        "       [-1, -1, -1, -1, -1, -1,  5, -1, -1, -1, -1, -1, -1, -1, -1],\n",
        "       [ 1, -1, -1,  5, -1, -1,  1, -1, -1, -1, -1, -1, -1, -1, -1],\n",
        "       [ 0,  0,  0,  0,  0,  0,  0, -1,  1,  0,  0,  0, -1,  1, -1],\n",
        "       [ 0, -1, -1,  0, -1, -1, -1, -1, -1,  1, -1, -1, -1, -1, -1],\n",
        "       [-1, -1, -1,  0, -1, -1, -1, -1, -1, -1, -1, -1,  3, -1, -1],\n",
        "       [ 1,  1,  0,  0, -1,  1, -1,  0,  0,  0,  0,  0,  0,  0,  0],\n",
        "       [-1, -1, -1, -1, -1, -1,  7, -1, -1,  5, -1, -1, -1, -1, -1],\n",
        "       [-1, -1, -1, -1, -1, -1, -1, -1, -1,  1, -1, -1,  6, -1, -1],\n",
        "       [ 1,  0,  0,  0,  0,  0,  0,  0,  0,  0,  0,  0, -1,  1, -1]], dtype=int16)"
       ]
      }
     ],
     "prompt_number": 14
    },
    {
     "cell_type": "code",
     "collapsed": false,
     "input": [
      "def semaforo(self):\n",
      "        self.semaforo=[]\n",
      "        for i in range(s/10 + 1):\n",
      "            self.semaforo.append(random.randint(0,s-1))\n",
      "        self.semaforo=np.unique(self.semaforo)\n",
      "        return semaforo\n",
      "        \n",
      "def siguiente_Semaforo():\n",
      "    self.siguiente_Semaforo=[]\n",
      "    for i in range(len(lugar_coche)):\n",
      "            \n",
      "            \n",
      "    def actualiza_Semaforo(self, t):\n",
      "        self.siguienteCoche(t)\n",
      "        self.distancia()\n",
      "        self.semaforo()\n",
      "        self.siguiente_Semaforo()\n",
      "        for i in range (len(self.distancias)):\n",
      "            \n",
      "            if self.distancias[i]-1<=self.posicion[t][self.lugar_coche[i]]:\n",
      "                nueva_vel = self.distancias[i]-1\n",
      "            else:\n",
      "                nueva_vel = min(self.v_max, self.posicion[t][self.lugar_coche[i]] + 1)\n",
      "            nueva_vel= min(nueva_vel, self.sig_semaforo[i]-lugar_coche[i])\n",
      "            \n",
      "            self.posicion[t+1][(self.lugar_coche[i] + nueva_vel) % self.s] = nueva_vel\n",
      "                \n",
      "        return self.posicion\n",
      "        "
     ],
     "language": "python",
     "metadata": {},
     "outputs": [
      {
       "ename": "IndentationError",
       "evalue": "expected an indented block (<ipython-input-27-1015661f5b94>, line 13)",
       "output_type": "pyerr",
       "traceback": [
        "\u001b[1;36m  File \u001b[1;32m\"<ipython-input-27-1015661f5b94>\"\u001b[1;36m, line \u001b[1;32m13\u001b[0m\n\u001b[1;33m    def actualiza_Semaforo(self, t):\u001b[0m\n\u001b[1;37m      ^\u001b[0m\n\u001b[1;31mIndentationError\u001b[0m\u001b[1;31m:\u001b[0m expected an indented block\n"
       ]
      }
     ],
     "prompt_number": 27
    },
    {
     "cell_type": "code",
     "collapsed": false,
     "input": [
      "def semaforo(s):\n",
      "    semaforo=[]\n",
      "    for i in range(s/10 + 1):\n",
      "        semaforo.append(random.randint(0,s-1))\n",
      "    semaforo=np.unique(semaforo)\n",
      "    print semaforo"
     ],
     "language": "python",
     "metadata": {},
     "outputs": [],
     "prompt_number": 25
    },
    {
     "cell_type": "code",
     "collapsed": false,
     "input": [
      "semaforo(30)"
     ],
     "language": "python",
     "metadata": {},
     "outputs": [
      {
       "output_type": "stream",
       "stream": "stdout",
       "text": [
        "[ 5  9 13 25]\n"
       ]
      }
     ],
     "prompt_number": 26
    },
    {
     "cell_type": "code",
     "collapsed": false,
     "input": [
      "semaforo=[]\n",
      "for i in range(10):\n",
      "    semaforo.append(random.randint(0,22))\n",
      "semaforo=np.unique(semaforo)"
     ],
     "language": "python",
     "metadata": {},
     "outputs": [],
     "prompt_number": 24
    },
    {
     "cell_type": "code",
     "collapsed": false,
     "input": [],
     "language": "python",
     "metadata": {},
     "outputs": []
    }
   ],
   "metadata": {}
  }
 ]
}